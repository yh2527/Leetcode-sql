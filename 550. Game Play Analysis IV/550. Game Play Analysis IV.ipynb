{
 "cells": [
  {
   "cell_type": "code",
   "execution_count": 1,
   "id": "ffcdf006",
   "metadata": {},
   "outputs": [],
   "source": [
    "import pyspark\n",
    "from pyspark.sql.types import StructType, StructField, IntegerType, StringType"
   ]
  },
  {
   "cell_type": "code",
   "execution_count": 2,
   "id": "e4fa0626",
   "metadata": {
    "scrolled": true
   },
   "outputs": [
    {
     "name": "stderr",
     "output_type": "stream",
     "text": [
      "Setting default log level to \"WARN\".\n",
      "To adjust logging level use sc.setLogLevel(newLevel). For SparkR, use setLogLevel(newLevel).\n",
      "23/12/22 22:09:33 WARN NativeCodeLoader: Unable to load native-hadoop library for your platform... using builtin-java classes where applicable\n"
     ]
    }
   ],
   "source": [
    "from pyspark.sql import SparkSession\n",
    "spark = SparkSession.builder \\\n",
    "    .master(\"local[*]\") \\\n",
    "    .appName('test') \\\n",
    "    .getOrCreate()"
   ]
  },
  {
   "cell_type": "code",
   "execution_count": 3,
   "id": "8a75002a",
   "metadata": {},
   "outputs": [],
   "source": [
    "from datetime import datetime\n",
    "from pyspark.sql.functions import col\n",
    "from pyspark.sql.types import StructType, StructField, IntegerType, StringType, DateType, TimestampType"
   ]
  },
  {
   "cell_type": "code",
   "execution_count": 27,
   "id": "7168f570",
   "metadata": {},
   "outputs": [
    {
     "name": "stdout",
     "output_type": "stream",
     "text": [
      "+---------+---------+----------+------------+\n",
      "|player_id|device_id|event_date|games_played|\n",
      "+---------+---------+----------+------------+\n",
      "|        1|        2|2016-03-01|           5|\n",
      "|        1|        2|2016-03-02|           6|\n",
      "|        2|        3|2017-06-25|           1|\n",
      "|        3|        1|2016-03-02|           0|\n",
      "|        3|        4|2018-07-03|           5|\n",
      "+---------+---------+----------+------------+\n",
      "\n",
      "[('player_id', 'int'), ('device_id', 'int'), ('event_date', 'date'), ('games_played', 'int')]\n"
     ]
    }
   ],
   "source": [
    "from pyspark.sql.functions import to_date\n",
    "schema = StructType([\n",
    "    StructField(\"player_id\", IntegerType(), True),\n",
    "    StructField(\"device_id\", IntegerType(), True),\n",
    "    StructField(\"event_date\", StringType(), True),  # Define the event_date as StringType\n",
    "    StructField(\"games_played\", IntegerType(), True)\n",
    "])\n",
    "\n",
    "# Create a list of Row objects with date as string\n",
    "data = [\n",
    "    Row(player_id=1, device_id=2, event_date=\"2016-03-01\", games_played=5),\n",
    "    Row(player_id=1, device_id=2, event_date=\"2016-03-02\", games_played=6),\n",
    "    Row(player_id=2, device_id=3, event_date=\"2017-06-25\", games_played=1),\n",
    "    Row(player_id=3, device_id=1, event_date=\"2016-03-02\", games_played=0),\n",
    "    Row(player_id=3, device_id=4, event_date=\"2018-07-03\", games_played=5)\n",
    "]\n",
    "\n",
    "# Convert the list to a DataFrame with the specified schema\n",
    "df = spark.createDataFrame(data, schema=schema)\n",
    "\n",
    "# Convert event_date from StringType to DateType\n",
    "df = df.withColumn(\"event_date\", to_date(df.event_date, \"yyyy-MM-dd\"))\n",
    "\n",
    "# Show the DataFrame\n",
    "df.show()\n",
    "\n",
    "# Print the data types of the DataFrame\n",
    "print(df.dtypes)"
   ]
  },
  {
   "cell_type": "code",
   "execution_count": 28,
   "id": "b25b3e10",
   "metadata": {},
   "outputs": [],
   "source": [
    "df.createOrReplaceTempView(\"Activity\")"
   ]
  },
  {
   "cell_type": "code",
   "execution_count": 29,
   "id": "458dae58",
   "metadata": {
    "scrolled": true
   },
   "outputs": [
    {
     "name": "stderr",
     "output_type": "stream",
     "text": [
      "\r",
      "[Stage 118:============================>                            (4 + 4) / 8]\r",
      "\r",
      "                                                                                \r"
     ]
    },
    {
     "name": "stdout",
     "output_type": "stream",
     "text": [
      "+---------+---------+----------+------------+\n",
      "|player_id|device_id|event_date|games_played|\n",
      "+---------+---------+----------+------------+\n",
      "|        1|        2|2016-03-01|           5|\n",
      "|        2|        3|2017-06-25|           1|\n",
      "|        3|        1|2016-03-02|           0|\n",
      "+---------+---------+----------+------------+\n",
      "\n"
     ]
    }
   ],
   "source": [
    "result = spark.sql(\n",
    "    \"\"\"\n",
    "    select *\n",
    "from Activity\n",
    "where (player_id, event_date) in (select player_id, min(event_date) from Activity group by 1)\n",
    "    \"\"\"\n",
    ")\n",
    "result.show()"
   ]
  },
  {
   "cell_type": "code",
   "execution_count": 30,
   "id": "2a66ef83",
   "metadata": {},
   "outputs": [
    {
     "name": "stdout",
     "output_type": "stream",
     "text": [
      "+--------+\n",
      "|fraction|\n",
      "+--------+\n",
      "|    0.33|\n",
      "+--------+\n",
      "\n"
     ]
    },
    {
     "name": "stderr",
     "output_type": "stream",
     "text": [
      "\r",
      "[Stage 124:===================================>                     (5 + 3) / 8]\r",
      "\r",
      "                                                                                \r"
     ]
    }
   ],
   "source": [
    "result = spark.sql(\n",
    "    \"\"\"\n",
    "    select round(count(if(datediff(next_date, event_date)=1, 1, null))/count(*),2) as fraction \n",
    "    from (select player_id, event_date, lead(event_date) over(partition by player_id order by event_date) as next_date \n",
    "        from Activity) r\n",
    "    where (player_id, event_date) in (select player_id, min(event_date) from Activity group by 1)\n",
    "    \"\"\"\n",
    ")\n",
    "result.show()"
   ]
  },
  {
   "cell_type": "code",
   "execution_count": 31,
   "id": "0792ed58",
   "metadata": {},
   "outputs": [
    {
     "name": "stderr",
     "output_type": "stream",
     "text": [
      "                                                                                \r"
     ]
    },
    {
     "name": "stdout",
     "output_type": "stream",
     "text": [
      "+--------+\n",
      "|fraction|\n",
      "+--------+\n",
      "|    0.33|\n",
      "+--------+\n",
      "\n"
     ]
    }
   ],
   "source": [
    "result = spark.sql(\n",
    "    \"\"\"\n",
    "    with first_login as (\n",
    "    select player_id, min(event_date) as first_date\n",
    "    from Activity\n",
    "    group by 1\n",
    "),\n",
    "next_login as (\n",
    "    select a.player_id, a.event_date as next_date\n",
    "    from Activity a join first_login f\n",
    "        on a.player_id = f.player_id \n",
    "            and datediff(a.event_date, f.first_date) = 1\n",
    ")\n",
    "select round((select count(player_id) from next_login)/(select count(player_id) from first_login),2) as fraction\n",
    "    \"\"\"\n",
    ")\n",
    "result.show()"
   ]
  },
  {
   "cell_type": "code",
   "execution_count": 34,
   "id": "fdf8cbdc",
   "metadata": {},
   "outputs": [
    {
     "name": "stderr",
     "output_type": "stream",
     "text": [
      "                                                                                \r"
     ]
    },
    {
     "name": "stdout",
     "output_type": "stream",
     "text": [
      "+--------+\n",
      "|fraction|\n",
      "+--------+\n",
      "|    0.33|\n",
      "+--------+\n",
      "\n"
     ]
    }
   ],
   "source": [
    "result = spark.sql(\n",
    "    \"\"\"\n",
    "    select round(count(player_id)/(select count(distinct player_id) from Activity),2) as fraction\n",
    "    from Activity \n",
    "    where (player_id, date_sub(event_date, 1)) in\n",
    "        (select player_id, min(event_date) from Activity group by 1)\n",
    "    \"\"\"\n",
    ")\n",
    "result.show()"
   ]
  },
  {
   "cell_type": "code",
   "execution_count": null,
   "id": "e7d41347",
   "metadata": {},
   "outputs": [],
   "source": []
  }
 ],
 "metadata": {
  "kernelspec": {
   "display_name": "Python 3 (ipykernel)",
   "language": "python",
   "name": "python3"
  },
  "language_info": {
   "codemirror_mode": {
    "name": "ipython",
    "version": 3
   },
   "file_extension": ".py",
   "mimetype": "text/x-python",
   "name": "python",
   "nbconvert_exporter": "python",
   "pygments_lexer": "ipython3",
   "version": "3.11.5"
  }
 },
 "nbformat": 4,
 "nbformat_minor": 5
}

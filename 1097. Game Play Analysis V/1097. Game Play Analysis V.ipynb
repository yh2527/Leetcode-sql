{
 "cells": [
  {
   "cell_type": "code",
   "execution_count": 1,
   "id": "ffcdf006",
   "metadata": {},
   "outputs": [],
   "source": [
    "import pyspark\n",
    "from pyspark.sql.types import StructType, StructField, IntegerType, StringType"
   ]
  },
  {
   "cell_type": "code",
   "execution_count": 2,
   "id": "e4fa0626",
   "metadata": {
    "scrolled": true
   },
   "outputs": [
    {
     "name": "stderr",
     "output_type": "stream",
     "text": [
      "Setting default log level to \"WARN\".\n",
      "To adjust logging level use sc.setLogLevel(newLevel). For SparkR, use setLogLevel(newLevel).\n",
      "23/11/18 17:46:05 WARN NativeCodeLoader: Unable to load native-hadoop library for your platform... using builtin-java classes where applicable\n"
     ]
    }
   ],
   "source": [
    "from pyspark.sql import SparkSession\n",
    "spark = SparkSession.builder \\\n",
    "    .master(\"local[*]\") \\\n",
    "    .appName('test') \\\n",
    "    .getOrCreate()"
   ]
  },
  {
   "cell_type": "code",
   "execution_count": 3,
   "id": "8a75002a",
   "metadata": {},
   "outputs": [],
   "source": [
    "from pyspark.sql import Row\n",
    "from datetime import datetime\n",
    "from pyspark.sql.functions import date_format\n",
    "from pyspark.sql.functions import to_date"
   ]
  },
  {
   "cell_type": "code",
   "execution_count": 4,
   "id": "7168f570",
   "metadata": {},
   "outputs": [
    {
     "name": "stderr",
     "output_type": "stream",
     "text": [
      "                                                                                \r"
     ]
    },
    {
     "name": "stdout",
     "output_type": "stream",
     "text": [
      "+---------+---------+----------+------------+\n",
      "|player_id|device_id|event_date|games_played|\n",
      "+---------+---------+----------+------------+\n",
      "|        1|        2|2016-03-01|           5|\n",
      "|        1|        2|2016-03-02|           6|\n",
      "|        2|        3|2017-06-25|           1|\n",
      "|        3|        1|2016-03-01|           0|\n",
      "|        3|        4|2016-07-03|           5|\n",
      "+---------+---------+----------+------------+\n",
      "\n",
      "[('player_id', 'bigint'), ('device_id', 'bigint'), ('event_date', 'date'), ('games_played', 'bigint')]\n"
     ]
    }
   ],
   "source": [
    "data = [\n",
    "    Row(player_id=1, device_id=2, event_date=datetime(2016, 3, 1), games_played=5),\n",
    "    Row(player_id=1, device_id=2, event_date=datetime(2016, 3, 2), games_played=6),\n",
    "    Row(player_id=2, device_id=3, event_date=datetime(2017, 6, 25), games_played=1),\n",
    "    Row(player_id=3, device_id=1, event_date=datetime(2016, 3, 1), games_played=0),\n",
    "    Row(player_id=3, device_id=4, event_date=datetime(2016, 7, 3), games_played=5)\n",
    "]\n",
    "# Convert the list of Row objects into a DataFrame\n",
    "df = spark.createDataFrame(data)\n",
    "df = df.withColumn(\"event_date\", to_date(date_format(\"event_date\", \"yyyy-MM-dd\")))\n",
    "df.show()\n",
    "print(df.dtypes)"
   ]
  },
  {
   "cell_type": "code",
   "execution_count": 5,
   "id": "b25b3e10",
   "metadata": {},
   "outputs": [],
   "source": [
    "df.createOrReplaceTempView(\"Activity\")"
   ]
  },
  {
   "cell_type": "code",
   "execution_count": 16,
   "id": "2a66ef83",
   "metadata": {},
   "outputs": [
    {
     "name": "stderr",
     "output_type": "stream",
     "text": [
      "                                                                                \r"
     ]
    },
    {
     "name": "stdout",
     "output_type": "stream",
     "text": [
      "+----------+--------+--------------+\n",
      "|install_dt|installs|Day1_retention|\n",
      "+----------+--------+--------------+\n",
      "|2016-03-01|       2|           0.5|\n",
      "|2017-06-25|       1|           0.0|\n",
      "+----------+--------+--------------+\n",
      "\n"
     ]
    }
   ],
   "source": [
    "result = spark.sql(\n",
    "    \"\"\"\n",
    "    WITH installation AS (\n",
    "    SELECT \n",
    "        MIN(event_date) AS install_dt, \n",
    "        player_id\n",
    "    FROM \n",
    "        Activity\n",
    "    GROUP BY \n",
    "        player_id\n",
    "),\n",
    "next_play AS (\n",
    "    SELECT \n",
    "        player_id, \n",
    "        event_date,\n",
    "        CASE \n",
    "            WHEN DATE_SUB(IFNULL(LEAD(event_date) OVER(PARTITION BY player_id ORDER BY event_date), event_date), 1) = event_date\n",
    "            THEN 1 \n",
    "            ELSE 0 \n",
    "        END AS next_date\n",
    "    FROM \n",
    "        Activity\n",
    ")\n",
    "SELECT \n",
    "    i.install_dt, \n",
    "    COUNT(i.player_id) AS installs, \n",
    "    ROUND(SUM(n.next_date) / COUNT(*), 2) AS Day1_retention\n",
    "FROM \n",
    "    installation i \n",
    "    LEFT JOIN next_play n ON i.player_id = n.player_id AND i.install_dt = n.event_date\n",
    "GROUP BY \n",
    "    i.install_dt\n",
    "    \"\"\"\n",
    ")\n",
    "result.show()"
   ]
  },
  {
   "cell_type": "code",
   "execution_count": 19,
   "id": "be300069",
   "metadata": {},
   "outputs": [
    {
     "name": "stderr",
     "output_type": "stream",
     "text": [
      "\r",
      "[Stage 83:>                                                         (0 + 8) / 8]\r",
      "\r",
      "                                                                                \r"
     ]
    },
    {
     "name": "stdout",
     "output_type": "stream",
     "text": [
      "+---------+---------+----------+------------+----------+----------+\n",
      "|player_id|device_id|event_date|games_played|event_date|event_date|\n",
      "+---------+---------+----------+------------+----------+----------+\n",
      "|        1|        2|2016-03-01|           5|      NULL|2016-03-02|\n",
      "|        1|        2|2016-03-02|           6|2016-03-01|      NULL|\n",
      "|        2|        3|2017-06-25|           1|      NULL|      NULL|\n",
      "|        3|        1|2016-03-01|           0|      NULL|      NULL|\n",
      "|        3|        4|2016-07-03|           5|2016-03-01|      NULL|\n",
      "+---------+---------+----------+------------+----------+----------+\n",
      "\n"
     ]
    }
   ],
   "source": [
    "result = spark.sql(\n",
    "    \"\"\"\n",
    "    SELECT \n",
    "    a1.*,a2.event_date,a3.event_date\n",
    "FROM \n",
    "    Activity a1 \n",
    "    LEFT JOIN Activity a2 ON a1.player_id = a2.player_id AND a1.event_date > a2.event_date\n",
    "    LEFT JOIN Activity a3 ON a1.player_id = a3.player_id AND DATEDIFF(a3.event_date, a1.event_date) = 1\n",
    "    \"\"\"\n",
    ")\n",
    "result.show()"
   ]
  },
  {
   "cell_type": "code",
   "execution_count": 20,
   "id": "a597157c",
   "metadata": {},
   "outputs": [
    {
     "name": "stderr",
     "output_type": "stream",
     "text": [
      "\r",
      "[Stage 89:>                                                         (0 + 8) / 8]\r",
      "\r",
      "                                                                                \r"
     ]
    },
    {
     "name": "stdout",
     "output_type": "stream",
     "text": [
      "+----------+--------+--------------+\n",
      "|install_dt|installs|Day1_retention|\n",
      "+----------+--------+--------------+\n",
      "|2016-03-01|       2|           0.5|\n",
      "|2017-06-25|       1|           0.0|\n",
      "+----------+--------+--------------+\n",
      "\n"
     ]
    }
   ],
   "source": [
    "result = spark.sql(\n",
    "    \"\"\"\n",
    "    SELECT \n",
    "    a1.event_date AS install_dt, \n",
    "    COUNT(a1.player_id) AS installs, \n",
    "    ROUND(COUNT(a3.player_id) / COUNT(a1.player_id), 2) AS Day1_retention\n",
    "FROM \n",
    "    Activity a1 \n",
    "    LEFT JOIN Activity a2 ON a1.player_id = a2.player_id AND a1.event_date > a2.event_date\n",
    "    LEFT JOIN Activity a3 ON a1.player_id = a3.player_id AND DATEDIFF(a3.event_date, a1.event_date) = 1\n",
    "WHERE \n",
    "    a2.event_date IS NULL\n",
    "GROUP BY \n",
    "    a1.event_date;\n",
    "    \"\"\"\n",
    ")\n",
    "result.show()"
   ]
  },
  {
   "cell_type": "code",
   "execution_count": null,
   "id": "4c4325e5",
   "metadata": {},
   "outputs": [],
   "source": []
  }
 ],
 "metadata": {
  "kernelspec": {
   "display_name": "Python 3 (ipykernel)",
   "language": "python",
   "name": "python3"
  },
  "language_info": {
   "codemirror_mode": {
    "name": "ipython",
    "version": 3
   },
   "file_extension": ".py",
   "mimetype": "text/x-python",
   "name": "python",
   "nbconvert_exporter": "python",
   "pygments_lexer": "ipython3",
   "version": "3.11.3"
  }
 },
 "nbformat": 4,
 "nbformat_minor": 5
}

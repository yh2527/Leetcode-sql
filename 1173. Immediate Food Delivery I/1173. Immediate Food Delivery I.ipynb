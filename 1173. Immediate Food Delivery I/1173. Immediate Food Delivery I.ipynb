{
 "cells": [
  {
   "cell_type": "code",
   "execution_count": 1,
   "id": "ffcdf006",
   "metadata": {},
   "outputs": [],
   "source": [
    "import pyspark\n",
    "from pyspark.sql.types import StructType, StructField, IntegerType, StringType"
   ]
  },
  {
   "cell_type": "code",
   "execution_count": 2,
   "id": "e4fa0626",
   "metadata": {
    "scrolled": true
   },
   "outputs": [
    {
     "name": "stderr",
     "output_type": "stream",
     "text": [
      "Setting default log level to \"WARN\".\n",
      "To adjust logging level use sc.setLogLevel(newLevel). For SparkR, use setLogLevel(newLevel).\n",
      "23/12/19 14:07:57 WARN NativeCodeLoader: Unable to load native-hadoop library for your platform... using builtin-java classes where applicable\n"
     ]
    }
   ],
   "source": [
    "from pyspark.sql import SparkSession\n",
    "spark = SparkSession.builder \\\n",
    "    .master(\"local[*]\") \\\n",
    "    .appName('test') \\\n",
    "    .getOrCreate()"
   ]
  },
  {
   "cell_type": "code",
   "execution_count": 3,
   "id": "8a75002a",
   "metadata": {},
   "outputs": [],
   "source": [
    "from pyspark.sql import Row"
   ]
  },
  {
   "cell_type": "code",
   "execution_count": 4,
   "id": "7168f570",
   "metadata": {},
   "outputs": [
    {
     "name": "stderr",
     "output_type": "stream",
     "text": [
      "23/12/19 14:07:59 WARN SparkSession: Using an existing Spark session; only runtime SQL configurations will take effect.\n",
      "                                                                                \r"
     ]
    },
    {
     "name": "stdout",
     "output_type": "stream",
     "text": [
      "+-----------+-----------+----------+---------------------------+\n",
      "|delivery_id|customer_id|order_date|customer_pref_delivery_date|\n",
      "+-----------+-----------+----------+---------------------------+\n",
      "|          1|          1|2019-08-01|                 2019-08-02|\n",
      "|          2|          5|2019-08-02|                 2019-08-02|\n",
      "|          3|          1|2019-08-11|                 2019-08-11|\n",
      "|          4|          3|2019-08-24|                 2019-08-26|\n",
      "|          5|          4|2019-08-21|                 2019-08-22|\n",
      "|          6|          2|2019-08-11|                 2019-08-13|\n",
      "+-----------+-----------+----------+---------------------------+\n",
      "\n"
     ]
    }
   ],
   "source": [
    "data = [\n",
    "    Row(delivery_id=1, customer_id=1, order_date=\"2019-08-01\", customer_pref_delivery_date=\"2019-08-02\"),\n",
    "    Row(delivery_id=2, customer_id=5, order_date=\"2019-08-02\", customer_pref_delivery_date=\"2019-08-02\"),\n",
    "    Row(delivery_id=3, customer_id=1, order_date=\"2019-08-11\", customer_pref_delivery_date=\"2019-08-11\"),\n",
    "    Row(delivery_id=4, customer_id=3, order_date=\"2019-08-24\", customer_pref_delivery_date=\"2019-08-26\"),\n",
    "    Row(delivery_id=5, customer_id=4, order_date=\"2019-08-21\", customer_pref_delivery_date=\"2019-08-22\"),\n",
    "    Row(delivery_id=6, customer_id=2, order_date=\"2019-08-11\", customer_pref_delivery_date=\"2019-08-13\")\n",
    "]\n",
    "spark = SparkSession.builder.appName(\"delivery_data\").getOrCreate()\n",
    "\n",
    "# Convert the list of Row objects into a DataFrame\n",
    "df = spark.createDataFrame(data)\n",
    "df.show()"
   ]
  },
  {
   "cell_type": "code",
   "execution_count": 5,
   "id": "b25b3e10",
   "metadata": {},
   "outputs": [
    {
     "name": "stderr",
     "output_type": "stream",
     "text": [
      "23/12/19 14:08:10 WARN GarbageCollectionMetrics: To enable non-built-in garbage collector(s) List(G1 Concurrent GC), users should configure it(them) to spark.eventLog.gcMetrics.youngGenerationGarbageCollectors or spark.eventLog.gcMetrics.oldGenerationGarbageCollectors\n"
     ]
    }
   ],
   "source": [
    "df.createOrReplaceTempView(\"Delivery\")"
   ]
  },
  {
   "cell_type": "code",
   "execution_count": 9,
   "id": "d27d0120",
   "metadata": {},
   "outputs": [
    {
     "name": "stdout",
     "output_type": "stream",
     "text": [
      "+--------------------+\n",
      "|immediate_percentage|\n",
      "+--------------------+\n",
      "|               33.33|\n",
      "+--------------------+\n",
      "\n"
     ]
    }
   ],
   "source": [
    "result = spark.sql(\n",
    "    \"\"\"\n",
    "    select round(100*count(if(order_date = customer_pref_delivery_date, 1, null))/count(*),2) as immediate_percentage\n",
    "from Delivery\n",
    "    \"\"\"\n",
    ")\n",
    "result.show()"
   ]
  },
  {
   "cell_type": "code",
   "execution_count": 14,
   "id": "430ad9cd",
   "metadata": {},
   "outputs": [
    {
     "name": "stdout",
     "output_type": "stream",
     "text": [
      "+--------------------+\n",
      "|immediate_percentage|\n",
      "+--------------------+\n",
      "|               33.33|\n",
      "+--------------------+\n",
      "\n"
     ]
    }
   ],
   "source": [
    "result = spark.sql(\n",
    "    \"\"\"\n",
    "    SELECT ROUND(100 * SUM(CASE WHEN order_date = customer_pref_delivery_date THEN 1 ELSE 0 END) / COUNT(*), 2) AS immediate_percentage\n",
    "FROM Delivery;\n",
    "\n",
    "\n",
    "    \"\"\"\n",
    ")\n",
    "result.show()"
   ]
  },
  {
   "cell_type": "code",
   "execution_count": 14,
   "id": "2a66ef83",
   "metadata": {},
   "outputs": [
    {
     "name": "stdout",
     "output_type": "stream",
     "text": [
      "+--------------------+\n",
      "|immediate_percentage|\n",
      "+--------------------+\n",
      "|               33.33|\n",
      "+--------------------+\n",
      "\n"
     ]
    }
   ],
   "source": [
    "result = spark.sql(\n",
    "    \"\"\"\n",
    "    SELECT IFNULL(\n",
    "        ROUND((SELECT COUNT(delivery_id) FROM Delivery WHERE order_date = customer_pref_delivery_date)\n",
    "            /(SELECT COUNT(*) FROM Delivery) * 100, 2)\n",
    "        , 0) AS immediate_percentage\n",
    "    \"\"\"\n",
    ")\n",
    "result.show()"
   ]
  },
  {
   "cell_type": "code",
   "execution_count": null,
   "id": "0b0ab1c9",
   "metadata": {},
   "outputs": [],
   "source": []
  }
 ],
 "metadata": {
  "kernelspec": {
   "display_name": "Python 3 (ipykernel)",
   "language": "python",
   "name": "python3"
  },
  "language_info": {
   "codemirror_mode": {
    "name": "ipython",
    "version": 3
   },
   "file_extension": ".py",
   "mimetype": "text/x-python",
   "name": "python",
   "nbconvert_exporter": "python",
   "pygments_lexer": "ipython3",
   "version": "3.11.5"
  }
 },
 "nbformat": 4,
 "nbformat_minor": 5
}

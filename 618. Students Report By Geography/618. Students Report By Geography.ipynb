{
 "cells": [
  {
   "cell_type": "code",
   "execution_count": 1,
   "id": "e4fa0626",
   "metadata": {
    "scrolled": true
   },
   "outputs": [
    {
     "name": "stderr",
     "output_type": "stream",
     "text": [
      "Setting default log level to \"WARN\".\n",
      "To adjust logging level use sc.setLogLevel(newLevel). For SparkR, use setLogLevel(newLevel).\n",
      "24/01/08 21:34:35 WARN NativeCodeLoader: Unable to load native-hadoop library for your platform... using builtin-java classes where applicable\n",
      "24/01/08 21:34:54 WARN GarbageCollectionMetrics: To enable non-built-in garbage collector(s) List(G1 Concurrent GC), users should configure it(them) to spark.eventLog.gcMetrics.youngGenerationGarbageCollectors or spark.eventLog.gcMetrics.oldGenerationGarbageCollectors\n"
     ]
    }
   ],
   "source": [
    "from pyspark.sql import SparkSession\n",
    "spark = SparkSession.builder.appName(\"test\").getOrCreate()"
   ]
  },
  {
   "cell_type": "code",
   "execution_count": 2,
   "id": "7168f570",
   "metadata": {},
   "outputs": [
    {
     "name": "stderr",
     "output_type": "stream",
     "text": [
      "                                                                                \r"
     ]
    },
    {
     "name": "stdout",
     "output_type": "stream",
     "text": [
      "+------+---------+\n",
      "|  name|continent|\n",
      "+------+---------+\n",
      "|  Jane|  America|\n",
      "|Pascal|   Europe|\n",
      "|    Xi|     Asia|\n",
      "|  Jack|  America|\n",
      "+------+---------+\n",
      "\n",
      "[('name', 'string'), ('continent', 'string')]\n"
     ]
    }
   ],
   "source": [
    "from pyspark.sql import Row\n",
    "\n",
    "students = [\n",
    "    Row(name=\"Jane\", continent=\"America\"),\n",
    "    Row(name=\"Pascal\", continent=\"Europe\"),\n",
    "    Row(name=\"Xi\", continent=\"Asia\"),\n",
    "    Row(name=\"Jack\", continent=\"America\")\n",
    "]\n",
    "\n",
    "df = spark.createDataFrame(students)\n",
    "df.show()\n",
    "\n",
    "print(df.dtypes)"
   ]
  },
  {
   "cell_type": "code",
   "execution_count": 3,
   "id": "b25b3e10",
   "metadata": {},
   "outputs": [],
   "source": [
    "df.createOrReplaceTempView(\"Student\")"
   ]
  },
  {
   "cell_type": "code",
   "execution_count": 7,
   "id": "72673c22",
   "metadata": {},
   "outputs": [
    {
     "name": "stdout",
     "output_type": "stream",
     "text": [
      "+------+---------+------+\n",
      "|  name|continent|row_id|\n",
      "+------+---------+------+\n",
      "|  Jack|  America|     1|\n",
      "|  Jane|  America|     2|\n",
      "|    Xi|     Asia|     1|\n",
      "|Pascal|   Europe|     1|\n",
      "+------+---------+------+\n",
      "\n"
     ]
    }
   ],
   "source": [
    "result = spark.sql(\n",
    "    \"\"\"\n",
    "    -- Method 1: first attach row_id using WINDOW function\n",
    "    select *, row_number() over(partition by continent order by name) as row_id\n",
    "        from Student\n",
    "    \"\"\"\n",
    ")\n",
    "result.show()"
   ]
  },
  {
   "cell_type": "code",
   "execution_count": 13,
   "id": "38c5e623",
   "metadata": {
    "scrolled": false
   },
   "outputs": [
    {
     "name": "stdout",
     "output_type": "stream",
     "text": [
      "+-------+----+------+------+\n",
      "|America|Asia|Europe|row_id|\n",
      "+-------+----+------+------+\n",
      "|   Jack|NULL|  NULL|     1|\n",
      "|   Jane|NULL|  NULL|     2|\n",
      "|   NULL|  Xi|  NULL|     1|\n",
      "|   NULL|NULL|Pascal|     1|\n",
      "+-------+----+------+------+\n",
      "\n"
     ]
    }
   ],
   "source": [
    "result = spark.sql(\n",
    "    \"\"\"          \n",
    "    -- expanding each name (1 column) into 3 columns (2 nulls)\n",
    "    select case when continent = 'America' then name end as America, \n",
    "           case when continent = 'Asia' then name end as Asia,\n",
    "           case when continent = 'Europe' then name end as Europe,\n",
    "           row_id\n",
    "    from (select *, row_number() over(partition by continent order by name) as row_id\n",
    "            from Student)\n",
    "    \"\"\"\n",
    ")\n",
    "result.show()"
   ]
  },
  {
   "cell_type": "code",
   "execution_count": 16,
   "id": "fd62aab5",
   "metadata": {
    "scrolled": true
   },
   "outputs": [
    {
     "name": "stdout",
     "output_type": "stream",
     "text": [
      "+-------+----+------+\n",
      "|America|Asia|Europe|\n",
      "+-------+----+------+\n",
      "|   Jack|  Xi|Pascal|\n",
      "|   Jane|NULL|  NULL|\n",
      "+-------+----+------+\n",
      "\n"
     ]
    }
   ],
   "source": [
    "result = spark.sql(\n",
    "    \"\"\"  \n",
    "    -- final step: \n",
    "    -- using GROUP BY row_id, bring the non-null value into the same row with MAX(name)\n",
    "    select max(case when continent = 'America' then name end) as America, \n",
    "           max(case when continent = 'Asia' then name end) as Asia,\n",
    "           max(case when continent = 'Europe' then name end) as Europe\n",
    "    from (select *, row_number() over(partition by continent order by name) as row_id\n",
    "            from Student)\n",
    "    group by row_id\n",
    "    \"\"\"\n",
    ")\n",
    "result.show()"
   ]
  },
  {
   "cell_type": "code",
   "execution_count": 19,
   "id": "ed113086",
   "metadata": {},
   "outputs": [
    {
     "name": "stdout",
     "output_type": "stream",
     "text": [
      "+-------+----+------+\n",
      "|America|Asia|Europe|\n",
      "+-------+----+------+\n",
      "|   Jack|  Xi|Pascal|\n",
      "|   Jane|NULL|  NULL|\n",
      "+-------+----+------+\n",
      "\n"
     ]
    }
   ],
   "source": [
    "result = spark.sql(\n",
    "    \"\"\"  \n",
    "    -- Or reorganize the query a little bit:\n",
    "    select max(America) as America, \n",
    "           max(Asia) as Asia,\n",
    "           max(Europe) as Europe\n",
    "    from (select *, \n",
    "            row_number() over(partition by continent order by name) as row_id, \n",
    "            CASE WHEN continent = 'America' THEN name END America,\n",
    "            CASE WHEN continent = 'Asia'    THEN name END Asia,\n",
    "            CASE WHEN continent = 'Europe'  THEN name END Europe\n",
    "            from Student)\n",
    "    group by row_id\n",
    "    \"\"\"\n",
    ")\n",
    "result.show()"
   ]
  },
  {
   "cell_type": "code",
   "execution_count": null,
   "id": "3549bc62",
   "metadata": {},
   "outputs": [],
   "source": []
  }
 ],
 "metadata": {
  "kernelspec": {
   "display_name": "Python 3 (ipykernel)",
   "language": "python",
   "name": "python3"
  },
  "language_info": {
   "codemirror_mode": {
    "name": "ipython",
    "version": 3
   },
   "file_extension": ".py",
   "mimetype": "text/x-python",
   "name": "python",
   "nbconvert_exporter": "python",
   "pygments_lexer": "ipython3",
   "version": "3.11.5"
  }
 },
 "nbformat": 4,
 "nbformat_minor": 5
}

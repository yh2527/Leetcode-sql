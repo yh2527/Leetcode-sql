{
 "cells": [
  {
   "cell_type": "code",
   "execution_count": 1,
   "id": "ffcdf006",
   "metadata": {},
   "outputs": [],
   "source": [
    "import pyspark\n",
    "from pyspark.sql.types import StructType, StructField, IntegerType, StringType"
   ]
  },
  {
   "cell_type": "code",
   "execution_count": 2,
   "id": "e4fa0626",
   "metadata": {
    "scrolled": true
   },
   "outputs": [
    {
     "name": "stderr",
     "output_type": "stream",
     "text": [
      "Setting default log level to \"WARN\".\n",
      "To adjust logging level use sc.setLogLevel(newLevel). For SparkR, use setLogLevel(newLevel).\n",
      "23/11/26 12:34:41 WARN NativeCodeLoader: Unable to load native-hadoop library for your platform... using builtin-java classes where applicable\n"
     ]
    }
   ],
   "source": [
    "from pyspark.sql import SparkSession\n",
    "spark = SparkSession.builder \\\n",
    "    .master(\"local[*]\") \\\n",
    "    .appName('test') \\\n",
    "    .getOrCreate()"
   ]
  },
  {
   "cell_type": "code",
   "execution_count": 3,
   "id": "8a75002a",
   "metadata": {},
   "outputs": [],
   "source": [
    "from datetime import datetime\n",
    "from pyspark.sql.functions import col\n",
    "from pyspark.sql.types import StructType, StructField, IntegerType, StringType, DateType, TimestampType"
   ]
  },
  {
   "cell_type": "code",
   "execution_count": 4,
   "id": "7168f570",
   "metadata": {},
   "outputs": [
    {
     "name": "stderr",
     "output_type": "stream",
     "text": [
      "                                                                                \r"
     ]
    },
    {
     "name": "stdout",
     "output_type": "stream",
     "text": [
      "+--------+--------+\n",
      "|movie_id|   title|\n",
      "+--------+--------+\n",
      "|       1|Avengers|\n",
      "|       2|Frozen 2|\n",
      "|       3|   Joker|\n",
      "+--------+--------+\n",
      "\n",
      "[('movie_id', 'int'), ('title', 'string')]\n"
     ]
    }
   ],
   "source": [
    "movies_data = [\n",
    "    (1, \"Avengers\"),\n",
    "    (2, \"Frozen 2\"),\n",
    "    (3, \"Joker\")\n",
    "]\n",
    "movies_schema = StructType([\n",
    "    StructField(\"movie_id\", IntegerType(), True),\n",
    "    StructField(\"title\", StringType(), True)\n",
    "])\n",
    "movies_df = spark.createDataFrame(movies_data, schema=movies_schema)\n",
    "\n",
    "movies_df.show()\n",
    "print(movies_df.dtypes)"
   ]
  },
  {
   "cell_type": "code",
   "execution_count": 5,
   "id": "31ea7b35",
   "metadata": {},
   "outputs": [
    {
     "name": "stdout",
     "output_type": "stream",
     "text": [
      "+-------+------+\n",
      "|user_id|  name|\n",
      "+-------+------+\n",
      "|      1|Daniel|\n",
      "|      2|Monica|\n",
      "|      3| Maria|\n",
      "|      4| James|\n",
      "+-------+------+\n",
      "\n",
      "[('user_id', 'int'), ('name', 'string')]\n"
     ]
    }
   ],
   "source": [
    "users_data = [\n",
    "    (1, \"Daniel\"),\n",
    "    (2, \"Monica\"),\n",
    "    (3, \"Maria\"),\n",
    "    (4, \"James\")\n",
    "]\n",
    "\n",
    "users_schema = StructType([\n",
    "    StructField(\"user_id\", IntegerType(), True),\n",
    "    StructField(\"name\", StringType(), True)\n",
    "])\n",
    "\n",
    "users_df = spark.createDataFrame(users_data, schema=users_schema)\n",
    "users_df.show()\n",
    "print(users_df.dtypes)"
   ]
  },
  {
   "cell_type": "code",
   "execution_count": 8,
   "id": "40829aed",
   "metadata": {},
   "outputs": [
    {
     "name": "stdout",
     "output_type": "stream",
     "text": [
      "+--------+-------+------+----------+\n",
      "|movie_id|user_id|rating|created_at|\n",
      "+--------+-------+------+----------+\n",
      "|       1|      1|     3|2020-01-12|\n",
      "|       1|      2|     4|2020-02-11|\n",
      "|       1|      3|     2|2020-02-12|\n",
      "|       1|      4|     1|2020-01-01|\n",
      "|       2|      1|     5|2020-02-17|\n",
      "|       2|      2|     2|2020-02-01|\n",
      "|       2|      3|     2|2020-03-01|\n",
      "|       3|      1|     3|2020-02-22|\n",
      "|       3|      2|     4|2020-02-25|\n",
      "+--------+-------+------+----------+\n",
      "\n",
      "[('movie_id', 'int'), ('user_id', 'int'), ('rating', 'int'), ('created_at', 'string')]\n"
     ]
    }
   ],
   "source": [
    "movie_rating_data = [\n",
    "    (1, 1, 3, \"2020-01-12\"),\n",
    "    (1, 2, 4, \"2020-02-11\"),\n",
    "    (1, 3, 2, \"2020-02-12\"),\n",
    "    (1, 4, 1, \"2020-01-01\"),\n",
    "    (2, 1, 5, \"2020-02-17\"),\n",
    "    (2, 2, 2, \"2020-02-01\"),\n",
    "    (2, 3, 2, \"2020-03-01\"),\n",
    "    (3, 1, 3, \"2020-02-22\"),\n",
    "    (3, 2, 4, \"2020-02-25\")\n",
    "]\n",
    "\n",
    "movie_rating_schema = StructType([\n",
    "    StructField(\"movie_id\", IntegerType(), True),\n",
    "    StructField(\"user_id\", IntegerType(), True),\n",
    "    StructField(\"rating\", IntegerType(), True),\n",
    "    StructField(\"created_at\", StringType(), True)\n",
    "])\n",
    "\n",
    "movie_rating_df = spark.createDataFrame(movie_rating_data, schema=movie_rating_schema)\n",
    "movie_rating_df.show()\n",
    "print(movie_rating_df.dtypes)"
   ]
  },
  {
   "cell_type": "code",
   "execution_count": 9,
   "id": "b25b3e10",
   "metadata": {},
   "outputs": [],
   "source": [
    "movies_df.createOrReplaceTempView(\"Movies\")\n",
    "users_df.createOrReplaceTempView(\"Users\")\n",
    "movie_rating_df.createOrReplaceTempView(\"MovieRating\")"
   ]
  },
  {
   "cell_type": "code",
   "execution_count": 19,
   "id": "2a66ef83",
   "metadata": {},
   "outputs": [
    {
     "name": "stderr",
     "output_type": "stream",
     "text": [
      "23/11/26 12:53:47 WARN WindowExec: No Partition Defined for Window operation! Moving all data to a single partition, this can cause serious performance degradation.\n",
      "23/11/26 12:53:47 WARN WindowExec: No Partition Defined for Window operation! Moving all data to a single partition, this can cause serious performance degradation.\n",
      "23/11/26 12:53:47 WARN WindowExec: No Partition Defined for Window operation! Moving all data to a single partition, this can cause serious performance degradation.\n",
      "23/11/26 12:53:47 WARN WindowExec: No Partition Defined for Window operation! Moving all data to a single partition, this can cause serious performance degradation.\n",
      "23/11/26 12:53:47 WARN WindowExec: No Partition Defined for Window operation! Moving all data to a single partition, this can cause serious performance degradation.\n",
      "23/11/26 12:53:47 WARN WindowExec: No Partition Defined for Window operation! Moving all data to a single partition, this can cause serious performance degradation.\n",
      "23/11/26 12:53:47 WARN WindowExec: No Partition Defined for Window operation! Moving all data to a single partition, this can cause serious performance degradation.\n",
      "23/11/26 12:53:47 WARN WindowExec: No Partition Defined for Window operation! Moving all data to a single partition, this can cause serious performance degradation.\n"
     ]
    },
    {
     "name": "stdout",
     "output_type": "stream",
     "text": [
      "+---------+\n",
      "|min(name)|\n",
      "+---------+\n",
      "|   Daniel|\n",
      "+---------+\n",
      "\n"
     ]
    },
    {
     "name": "stderr",
     "output_type": "stream",
     "text": [
      "23/11/26 12:53:47 WARN WindowExec: No Partition Defined for Window operation! Moving all data to a single partition, this can cause serious performance degradation.\n",
      "23/11/26 12:53:47 WARN WindowExec: No Partition Defined for Window operation! Moving all data to a single partition, this can cause serious performance degradation.\n"
     ]
    }
   ],
   "source": [
    "result = spark.sql(\n",
    "    \"\"\"\n",
    "    SELECT min(name)\n",
    "    FROM (SELECT name, count(MovieRating.movie_id) as count, max(count(MovieRating.movie_id)) OVER () as max_count\n",
    "        FROM MovieRating LEFT JOIN Users \n",
    "            ON MovieRating.user_id = Users.user_id\n",
    "        GROUP BY MovieRating.user_id, name) movie_count\n",
    "    WHERE count = max_count\n",
    "    \"\"\"\n",
    ")\n",
    "result.show()"
   ]
  },
  {
   "cell_type": "code",
   "execution_count": 31,
   "id": "476ae883",
   "metadata": {},
   "outputs": [
    {
     "name": "stderr",
     "output_type": "stream",
     "text": [
      "23/11/26 13:01:31 WARN WindowExec: No Partition Defined for Window operation! Moving all data to a single partition, this can cause serious performance degradation.\n",
      "23/11/26 13:01:31 WARN WindowExec: No Partition Defined for Window operation! Moving all data to a single partition, this can cause serious performance degradation.\n",
      "23/11/26 13:01:31 WARN WindowExec: No Partition Defined for Window operation! Moving all data to a single partition, this can cause serious performance degradation.\n",
      "23/11/26 13:01:31 WARN WindowExec: No Partition Defined for Window operation! Moving all data to a single partition, this can cause serious performance degradation.\n",
      "23/11/26 13:01:32 WARN WindowExec: No Partition Defined for Window operation! Moving all data to a single partition, this can cause serious performance degradation.\n",
      "23/11/26 13:01:32 WARN WindowExec: No Partition Defined for Window operation! Moving all data to a single partition, this can cause serious performance degradation.\n",
      "23/11/26 13:01:32 WARN WindowExec: No Partition Defined for Window operation! Moving all data to a single partition, this can cause serious performance degradation.\n"
     ]
    },
    {
     "name": "stdout",
     "output_type": "stream",
     "text": [
      "+--------+\n",
      "|   title|\n",
      "+--------+\n",
      "|Frozen 2|\n",
      "+--------+\n",
      "\n"
     ]
    },
    {
     "name": "stderr",
     "output_type": "stream",
     "text": [
      "23/11/26 13:01:32 WARN WindowExec: No Partition Defined for Window operation! Moving all data to a single partition, this can cause serious performance degradation.\n",
      "23/11/26 13:01:32 WARN WindowExec: No Partition Defined for Window operation! Moving all data to a single partition, this can cause serious performance degradation.\n",
      "23/11/26 13:01:32 WARN WindowExec: No Partition Defined for Window operation! Moving all data to a single partition, this can cause serious performance degradation.\n"
     ]
    }
   ],
   "source": [
    "result = spark.sql(\n",
    "    \"\"\"\n",
    "    SELECT min(title) as title\n",
    "    FROM (SELECT title, avg(rating) as rate, max(avg(rating)) over () as max_rate\n",
    "            FROM MovieRating LEFT JOIN Movies\n",
    "                ON MovieRating.movie_id = Movies.movie_id\n",
    "            WHERE DATEDIFF(MONTH, '2020-02-01', created_at) < 1\n",
    "            GROUP BY MovieRating.movie_id, title\n",
    "            ) as movie_rating\n",
    "    WHERE rate = max_rate\n",
    "    \"\"\"\n",
    ")\n",
    "result.show()"
   ]
  },
  {
   "cell_type": "code",
   "execution_count": 48,
   "id": "de3b2728",
   "metadata": {},
   "outputs": [
    {
     "name": "stderr",
     "output_type": "stream",
     "text": [
      "                                                                                \r"
     ]
    },
    {
     "name": "stdout",
     "output_type": "stream",
     "text": [
      "+--------+\n",
      "| results|\n",
      "+--------+\n",
      "|  Daniel|\n",
      "|Frozen 2|\n",
      "+--------+\n",
      "\n"
     ]
    }
   ],
   "source": [
    "result = spark.sql(\n",
    "    \"\"\"\n",
    "SELECT name AS results FROM (\n",
    "    SELECT name\n",
    "    FROM MovieRating LEFT JOIN Users \n",
    "            ON MovieRating.user_id = Users.user_id    \n",
    "    GROUP BY MovieRating.user_id, name\n",
    "    ORDER BY count(MovieRating.movie_id) DESC, name\n",
    "    LIMIT 1\n",
    ") AS rating_counts\n",
    "UNION ALL\n",
    "SELECT title FROM(\n",
    "    SELECT title\n",
    "    FROM MovieRating LEFT JOIN Movies ON MovieRating.movie_id = Movies.movie_id\n",
    "    WHERE DATEDIFF(created_at, '2020-02-01') BETWEEN 0 and 28\n",
    "    GROUP BY MovieRating.movie_id, title\n",
    "    ORDER BY avg(rating) DESC, title\n",
    "    LIMIT 1\n",
    ") AS max_rate\n",
    "\n",
    "    \"\"\"\n",
    ")\n",
    "result.show()"
   ]
  },
  {
   "cell_type": "code",
   "execution_count": 45,
   "id": "c62b7151",
   "metadata": {},
   "outputs": [
    {
     "name": "stderr",
     "output_type": "stream",
     "text": [
      "23/11/26 14:13:30 WARN WindowExec: No Partition Defined for Window operation! Moving all data to a single partition, this can cause serious performance degradation.\n",
      "23/11/26 14:13:30 WARN WindowExec: No Partition Defined for Window operation! Moving all data to a single partition, this can cause serious performance degradation.\n",
      "23/11/26 14:13:30 WARN WindowExec: No Partition Defined for Window operation! Moving all data to a single partition, this can cause serious performance degradation.\n",
      "23/11/26 14:13:30 WARN WindowExec: No Partition Defined for Window operation! Moving all data to a single partition, this can cause serious performance degradation.\n",
      "23/11/26 14:13:31 WARN WindowExec: No Partition Defined for Window operation! Moving all data to a single partition, this can cause serious performance degradation.\n",
      "23/11/26 14:13:31 WARN WindowExec: No Partition Defined for Window operation! Moving all data to a single partition, this can cause serious performance degradation.\n",
      "23/11/26 14:13:31 WARN WindowExec: No Partition Defined for Window operation! Moving all data to a single partition, this can cause serious performance degradation.\n",
      "23/11/26 14:13:31 WARN WindowExec: No Partition Defined for Window operation! Moving all data to a single partition, this can cause serious performance degradation.\n",
      "23/11/26 14:13:31 WARN WindowExec: No Partition Defined for Window operation! Moving all data to a single partition, this can cause serious performance degradation.\n",
      "23/11/26 14:13:31 WARN WindowExec: No Partition Defined for Window operation! Moving all data to a single partition, this can cause serious performance degradation.\n",
      "23/11/26 14:13:31 WARN WindowExec: No Partition Defined for Window operation! Moving all data to a single partition, this can cause serious performance degradation.\n",
      "23/11/26 14:13:31 WARN WindowExec: No Partition Defined for Window operation! Moving all data to a single partition, this can cause serious performance degradation.\n",
      "23/11/26 14:13:32 WARN WindowExec: No Partition Defined for Window operation! Moving all data to a single partition, this can cause serious performance degradation.\n",
      "23/11/26 14:13:32 WARN WindowExec: No Partition Defined for Window operation! Moving all data to a single partition, this can cause serious performance degradation.\n",
      "23/11/26 14:13:32 WARN WindowExec: No Partition Defined for Window operation! Moving all data to a single partition, this can cause serious performance degradation.\n",
      "23/11/26 14:13:32 WARN WindowExec: No Partition Defined for Window operation! Moving all data to a single partition, this can cause serious performance degradation.\n",
      "23/11/26 14:13:32 WARN WindowExec: No Partition Defined for Window operation! Moving all data to a single partition, this can cause serious performance degradation.\n",
      "23/11/26 14:13:32 WARN WindowExec: No Partition Defined for Window operation! Moving all data to a single partition, this can cause serious performance degradation.\n",
      "23/11/26 14:13:32 WARN WindowExec: No Partition Defined for Window operation! Moving all data to a single partition, this can cause serious performance degradation.\n",
      "23/11/26 14:13:32 WARN WindowExec: No Partition Defined for Window operation! Moving all data to a single partition, this can cause serious performance degradation.\n",
      "23/11/26 14:13:32 WARN WindowExec: No Partition Defined for Window operation! Moving all data to a single partition, this can cause serious performance degradation.\n",
      "23/11/26 14:13:32 WARN WindowExec: No Partition Defined for Window operation! Moving all data to a single partition, this can cause serious performance degradation.\n",
      "23/11/26 14:13:32 WARN WindowExec: No Partition Defined for Window operation! Moving all data to a single partition, this can cause serious performance degradation.\n",
      "23/11/26 14:13:32 WARN WindowExec: No Partition Defined for Window operation! Moving all data to a single partition, this can cause serious performance degradation.\n",
      "23/11/26 14:13:32 WARN WindowExec: No Partition Defined for Window operation! Moving all data to a single partition, this can cause serious performance degradation.\n",
      "23/11/26 14:13:32 WARN WindowExec: No Partition Defined for Window operation! Moving all data to a single partition, this can cause serious performance degradation.\n",
      "23/11/26 14:13:32 WARN WindowExec: No Partition Defined for Window operation! Moving all data to a single partition, this can cause serious performance degradation.\n",
      "23/11/26 14:13:32 WARN WindowExec: No Partition Defined for Window operation! Moving all data to a single partition, this can cause serious performance degradation.\n",
      "23/11/26 14:13:32 WARN WindowExec: No Partition Defined for Window operation! Moving all data to a single partition, this can cause serious performance degradation.\n",
      "23/11/26 14:13:32 WARN WindowExec: No Partition Defined for Window operation! Moving all data to a single partition, this can cause serious performance degradation.\n",
      "23/11/26 14:13:32 WARN WindowExec: No Partition Defined for Window operation! Moving all data to a single partition, this can cause serious performance degradation.\n",
      "23/11/26 14:13:32 WARN WindowExec: No Partition Defined for Window operation! Moving all data to a single partition, this can cause serious performance degradation.\n"
     ]
    },
    {
     "name": "stdout",
     "output_type": "stream",
     "text": [
      "+--------+\n",
      "| results|\n",
      "+--------+\n",
      "|  Daniel|\n",
      "|Frozen 2|\n",
      "+--------+\n",
      "\n"
     ]
    },
    {
     "name": "stderr",
     "output_type": "stream",
     "text": [
      "23/11/26 14:13:32 WARN WindowExec: No Partition Defined for Window operation! Moving all data to a single partition, this can cause serious performance degradation.\n",
      "23/11/26 14:13:32 WARN WindowExec: No Partition Defined for Window operation! Moving all data to a single partition, this can cause serious performance degradation.\n",
      "23/11/26 14:13:32 WARN WindowExec: No Partition Defined for Window operation! Moving all data to a single partition, this can cause serious performance degradation.\n",
      "23/11/26 14:13:32 WARN WindowExec: No Partition Defined for Window operation! Moving all data to a single partition, this can cause serious performance degradation.\n"
     ]
    }
   ],
   "source": [
    "result = spark.sql(\n",
    "    \"\"\"\n",
    "SELECT min(name) AS results\n",
    "FROM (SELECT name, count(MovieRating.movie_id) as count, max(count(MovieRating.movie_id)) OVER () as max_count\n",
    "    FROM MovieRating LEFT JOIN Users \n",
    "        ON MovieRating.user_id = Users.user_id\n",
    "    GROUP BY MovieRating.user_id, name) movie_count\n",
    "WHERE count = max_count\n",
    "UNION ALL\n",
    "SELECT min(title) as title\n",
    "FROM (SELECT title, avg(rating) as rate, max(avg(rating)) over () as max_rate\n",
    "        FROM MovieRating LEFT JOIN Movies\n",
    "            ON MovieRating.movie_id = Movies.movie_id\n",
    "        WHERE DATEDIFF(MovieRating.created_at, '2020-02-01') BETWEEN 0 AND 28\n",
    "        GROUP BY MovieRating.movie_id, title\n",
    "        ) as movie_rating\n",
    "WHERE rate = max_rate\n",
    "    \"\"\"\n",
    ")\n",
    "result.show()"
   ]
  },
  {
   "cell_type": "code",
   "execution_count": null,
   "id": "a1c2e32f",
   "metadata": {},
   "outputs": [],
   "source": []
  }
 ],
 "metadata": {
  "kernelspec": {
   "display_name": "Python 3 (ipykernel)",
   "language": "python",
   "name": "python3"
  },
  "language_info": {
   "codemirror_mode": {
    "name": "ipython",
    "version": 3
   },
   "file_extension": ".py",
   "mimetype": "text/x-python",
   "name": "python",
   "nbconvert_exporter": "python",
   "pygments_lexer": "ipython3",
   "version": "3.11.3"
  }
 },
 "nbformat": 4,
 "nbformat_minor": 5
}

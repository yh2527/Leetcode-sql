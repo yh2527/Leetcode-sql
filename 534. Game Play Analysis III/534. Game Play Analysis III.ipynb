{
 "cells": [
  {
   "cell_type": "code",
   "execution_count": 1,
   "id": "ffcdf006",
   "metadata": {},
   "outputs": [],
   "source": [
    "import pyspark\n",
    "from pyspark.sql.types import StructType, StructField, IntegerType, StringType"
   ]
  },
  {
   "cell_type": "code",
   "execution_count": 2,
   "id": "e4fa0626",
   "metadata": {
    "scrolled": true
   },
   "outputs": [
    {
     "name": "stderr",
     "output_type": "stream",
     "text": [
      "Setting default log level to \"WARN\".\n",
      "To adjust logging level use sc.setLogLevel(newLevel). For SparkR, use setLogLevel(newLevel).\n",
      "23/11/25 09:45:30 WARN NativeCodeLoader: Unable to load native-hadoop library for your platform... using builtin-java classes where applicable\n",
      "23/11/25 09:45:49 WARN GarbageCollectionMetrics: To enable non-built-in garbage collector(s) List(G1 Concurrent GC), users should configure it(them) to spark.eventLog.gcMetrics.youngGenerationGarbageCollectors or spark.eventLog.gcMetrics.oldGenerationGarbageCollectors\n"
     ]
    }
   ],
   "source": [
    "from pyspark.sql import SparkSession\n",
    "spark = SparkSession.builder \\\n",
    "    .master(\"local[*]\") \\\n",
    "    .appName('test') \\\n",
    "    .getOrCreate()"
   ]
  },
  {
   "cell_type": "code",
   "execution_count": 31,
   "id": "8a75002a",
   "metadata": {},
   "outputs": [],
   "source": [
    "from datetime import datetime\n",
    "from pyspark.sql.functions import col\n",
    "from pyspark.sql.types import StructType, StructField, IntegerType, StringType, DateType, TimestampType"
   ]
  },
  {
   "cell_type": "code",
   "execution_count": 3,
   "id": "7168f570",
   "metadata": {},
   "outputs": [
    {
     "name": "stderr",
     "output_type": "stream",
     "text": [
      "                                                                                \r"
     ]
    },
    {
     "name": "stdout",
     "output_type": "stream",
     "text": [
      "+---------+---------+----------+------------+\n",
      "|player_id|device_id|event_date|games_played|\n",
      "+---------+---------+----------+------------+\n",
      "|        1|        2|2016-03-01|           5|\n",
      "|        1|        2|2016-05-02|           6|\n",
      "|        1|        3|2017-06-25|           1|\n",
      "|        3|        1|2016-03-02|           0|\n",
      "|        3|        4|2018-07-03|           5|\n",
      "+---------+---------+----------+------------+\n",
      "\n",
      "[('player_id', 'int'), ('device_id', 'int'), ('event_date', 'string'), ('games_played', 'int')]\n"
     ]
    }
   ],
   "source": [
    "schema = StructType([\n",
    "    StructField(\"player_id\", IntegerType(), True),\n",
    "    StructField(\"device_id\", IntegerType(), True),\n",
    "    StructField(\"event_date\", StringType(), True),  # Dates are often treated as strings in PySpark and then converted as needed\n",
    "    StructField(\"games_played\", IntegerType(), True)\n",
    "])\n",
    "data = [\n",
    "    (1, 2, '2016-03-01', 5),\n",
    "    (1, 2, '2016-05-02', 6),\n",
    "    (1, 3, '2017-06-25', 1),\n",
    "    (3, 1, '2016-03-02', 0),\n",
    "    (3, 4, '2018-07-03', 5)\n",
    "]\n",
    "df = spark.createDataFrame(data, schema)\n",
    "df.show()\n",
    "print(df.dtypes)"
   ]
  },
  {
   "cell_type": "code",
   "execution_count": 7,
   "id": "b25b3e10",
   "metadata": {},
   "outputs": [],
   "source": [
    "df.createOrReplaceTempView(\"Activity\")"
   ]
  },
  {
   "cell_type": "code",
   "execution_count": 9,
   "id": "2a66ef83",
   "metadata": {},
   "outputs": [
    {
     "name": "stderr",
     "output_type": "stream",
     "text": [
      "\r",
      "[Stage 6:====================================>                      (5 + 3) / 8]\r"
     ]
    },
    {
     "name": "stdout",
     "output_type": "stream",
     "text": [
      "+---------+----------+-------------------+\n",
      "|player_id|event_date|games_played_so_far|\n",
      "+---------+----------+-------------------+\n",
      "|        1|2016-03-01|                  5|\n",
      "|        1|2016-05-02|                 11|\n",
      "|        1|2017-06-25|                 12|\n",
      "|        3|2016-03-02|                  0|\n",
      "|        3|2018-07-03|                  5|\n",
      "+---------+----------+-------------------+\n",
      "\n"
     ]
    },
    {
     "name": "stderr",
     "output_type": "stream",
     "text": [
      "\r",
      "                                                                                \r"
     ]
    }
   ],
   "source": [
    "result = spark.sql(\n",
    "    \"\"\"\n",
    "    SELECT player_id, event_date, \n",
    "        sum(games_played) \n",
    "            OVER (PARTITION BY player_id ORDER BY event_date ROWS BETWEEN UNBOUNDED PRECEDING AND CURRENT ROW) \n",
    "            AS games_played_so_far\n",
    "    FROM Activity\n",
    "    \"\"\"\n",
    ")\n",
    "result.show()"
   ]
  },
  {
   "cell_type": "code",
   "execution_count": 14,
   "id": "476ae883",
   "metadata": {},
   "outputs": [
    {
     "name": "stderr",
     "output_type": "stream",
     "text": [
      "[Stage 16:>                                                         (0 + 8) / 8]\r"
     ]
    },
    {
     "name": "stdout",
     "output_type": "stream",
     "text": [
      "+---------+----------+-------------------+\n",
      "|player_id|event_date|games_played_so_far|\n",
      "+---------+----------+-------------------+\n",
      "|        1|2016-03-01|                  5|\n",
      "|        1|2016-05-02|                 11|\n",
      "|        1|2017-06-25|                 12|\n",
      "|        3|2016-03-02|                  0|\n",
      "|        3|2018-07-03|                  5|\n",
      "+---------+----------+-------------------+\n",
      "\n"
     ]
    },
    {
     "name": "stderr",
     "output_type": "stream",
     "text": [
      "\r",
      "                                                                                \r"
     ]
    }
   ],
   "source": [
    "result = spark.sql(\n",
    "    \"\"\"\n",
    "    SELECT a.player_id, a.event_date, sum(b.games_played) AS games_played_so_far\n",
    "    FROM Activity a LEFT JOIN  Activity b ON a.player_id = b.player_id AND a.event_date >= b.event_date\n",
    "    GROUP BY a.player_id, a.event_date\n",
    "    \"\"\"\n",
    ")\n",
    "result.show()"
   ]
  },
  {
   "cell_type": "code",
   "execution_count": null,
   "id": "de3b2728",
   "metadata": {},
   "outputs": [],
   "source": []
  }
 ],
 "metadata": {
  "kernelspec": {
   "display_name": "Python 3 (ipykernel)",
   "language": "python",
   "name": "python3"
  },
  "language_info": {
   "codemirror_mode": {
    "name": "ipython",
    "version": 3
   },
   "file_extension": ".py",
   "mimetype": "text/x-python",
   "name": "python",
   "nbconvert_exporter": "python",
   "pygments_lexer": "ipython3",
   "version": "3.11.3"
  }
 },
 "nbformat": 4,
 "nbformat_minor": 5
}

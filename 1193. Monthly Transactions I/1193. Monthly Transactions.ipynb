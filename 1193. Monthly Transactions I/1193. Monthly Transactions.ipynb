{
 "cells": [
  {
   "cell_type": "code",
   "execution_count": 5,
   "id": "ffcdf006",
   "metadata": {},
   "outputs": [],
   "source": [
    "from pyspark.sql.types import StructType, StructField, IntegerType, StringType, DateType"
   ]
  },
  {
   "cell_type": "code",
   "execution_count": 1,
   "id": "e4fa0626",
   "metadata": {
    "scrolled": true
   },
   "outputs": [
    {
     "name": "stderr",
     "output_type": "stream",
     "text": [
      "Setting default log level to \"WARN\".\n",
      "To adjust logging level use sc.setLogLevel(newLevel). For SparkR, use setLogLevel(newLevel).\n",
      "23/12/04 15:25:47 WARN NativeCodeLoader: Unable to load native-hadoop library for your platform... using builtin-java classes where applicable\n"
     ]
    }
   ],
   "source": [
    "from pyspark.sql import SparkSession\n",
    "spark = SparkSession.builder \\\n",
    "    .master(\"local[*]\") \\\n",
    "    .appName('test') \\\n",
    "    .getOrCreate()"
   ]
  },
  {
   "cell_type": "code",
   "execution_count": 3,
   "id": "8a75002a",
   "metadata": {},
   "outputs": [
    {
     "name": "stderr",
     "output_type": "stream",
     "text": [
      "23/12/04 15:25:59 WARN GarbageCollectionMetrics: To enable non-built-in garbage collector(s) List(G1 Concurrent GC), users should configure it(them) to spark.eventLog.gcMetrics.youngGenerationGarbageCollectors or spark.eventLog.gcMetrics.oldGenerationGarbageCollectors\n"
     ]
    }
   ],
   "source": [
    "from pyspark.sql import Row\n",
    "from datetime import datetime\n",
    "from pyspark.sql.functions import date_format\n",
    "from pyspark.sql.functions import to_date"
   ]
  },
  {
   "cell_type": "code",
   "execution_count": 7,
   "id": "7168f570",
   "metadata": {},
   "outputs": [
    {
     "name": "stderr",
     "output_type": "stream",
     "text": [
      "                                                                                \r"
     ]
    },
    {
     "name": "stdout",
     "output_type": "stream",
     "text": [
      "+---+-------+--------+------+----------+\n",
      "| id|country|   state|amount|trans_date|\n",
      "+---+-------+--------+------+----------+\n",
      "|121|     US|approved|  1000|2018-12-18|\n",
      "|122|     US|declined|  2000|2018-12-19|\n",
      "|123|     US|approved|  2000|2019-01-01|\n",
      "|124|     DE|approved|  2000|2019-01-07|\n",
      "+---+-------+--------+------+----------+\n",
      "\n",
      "[('id', 'int'), ('country', 'string'), ('state', 'string'), ('amount', 'int'), ('trans_date', 'date')]\n"
     ]
    }
   ],
   "source": [
    "import datetime\n",
    "\n",
    "data = [\n",
    "    (121, 'US', 'approved', 1000, datetime.date(2018, 12, 18)),\n",
    "    (122, 'US', 'declined', 2000, datetime.date(2018, 12, 19)),\n",
    "    (123, 'US', 'approved', 2000, datetime.date(2019, 1, 1)),\n",
    "    (124, 'DE', 'approved', 2000, datetime.date(2019, 1, 7))\n",
    "]\n",
    "\n",
    "schema = StructType([\n",
    "    StructField(\"id\", IntegerType(), True),\n",
    "    StructField(\"country\", StringType(), True),\n",
    "    StructField(\"state\", StringType(), True),\n",
    "    StructField(\"amount\", IntegerType(), True),\n",
    "    StructField(\"trans_date\", DateType(), True)\n",
    "])\n",
    "\n",
    "df = spark.createDataFrame(data, schema)\n",
    "\n",
    "df.show()\n",
    "print(df.dtypes)"
   ]
  },
  {
   "cell_type": "code",
   "execution_count": 10,
   "id": "b25b3e10",
   "metadata": {},
   "outputs": [],
   "source": [
    "df.createOrReplaceTempView(\"Transactions\")"
   ]
  },
  {
   "cell_type": "code",
   "execution_count": 18,
   "id": "2a66ef83",
   "metadata": {},
   "outputs": [
    {
     "name": "stdout",
     "output_type": "stream",
     "text": [
      "+-------+-------+-----------+--------------+------------------+---------------------+\n",
      "|  month|country|trans_count|approved_count|trans_total_amount|approved_total_amount|\n",
      "+-------+-------+-----------+--------------+------------------+---------------------+\n",
      "|2018 12|     US|          2|             1|              3000|                 1000|\n",
      "| 2019 1|     US|          1|             1|              2000|                 2000|\n",
      "| 2019 1|     DE|          1|             1|              2000|                 2000|\n",
      "+-------+-------+-----------+--------------+------------------+---------------------+\n",
      "\n"
     ]
    }
   ],
   "source": [
    "result = spark.sql(\n",
    "    \"\"\"\n",
    "    select DATE_FORMAT(trans_date, 'y M') as month, country,\n",
    "      count(id) as trans_count, \n",
    "      sum(case when state = 'approved' then 1 else 0 end) as approved_count,\n",
    "      sum(amount) as trans_total_amount,\n",
    "      sum(case when state = 'approved' then amount else 0 end) as approved_total_amount\n",
    "    from Transactions\n",
    "    group by 1, 2\n",
    "    \"\"\"\n",
    ")\n",
    "result.show()"
   ]
  }
 ],
 "metadata": {
  "kernelspec": {
   "display_name": "Python 3 (ipykernel)",
   "language": "python",
   "name": "python3"
  },
  "language_info": {
   "codemirror_mode": {
    "name": "ipython",
    "version": 3
   },
   "file_extension": ".py",
   "mimetype": "text/x-python",
   "name": "python",
   "nbconvert_exporter": "python",
   "pygments_lexer": "ipython3",
   "version": "3.11.5"
  }
 },
 "nbformat": 4,
 "nbformat_minor": 5
}

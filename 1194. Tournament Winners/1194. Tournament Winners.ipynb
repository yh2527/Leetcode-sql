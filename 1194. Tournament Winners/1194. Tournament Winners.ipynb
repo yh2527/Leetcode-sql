{
 "cells": [
  {
   "cell_type": "code",
   "execution_count": 1,
   "id": "ffcdf006",
   "metadata": {},
   "outputs": [],
   "source": [
    "from pyspark.sql.types import StructType, StructField, IntegerType, StringType, DateType"
   ]
  },
  {
   "cell_type": "code",
   "execution_count": 2,
   "id": "e4fa0626",
   "metadata": {
    "scrolled": true
   },
   "outputs": [
    {
     "name": "stderr",
     "output_type": "stream",
     "text": [
      "Setting default log level to \"WARN\".\n",
      "To adjust logging level use sc.setLogLevel(newLevel). For SparkR, use setLogLevel(newLevel).\n",
      "23/12/10 17:42:05 WARN NativeCodeLoader: Unable to load native-hadoop library for your platform... using builtin-java classes where applicable\n"
     ]
    }
   ],
   "source": [
    "from pyspark.sql import SparkSession\n",
    "spark = SparkSession.builder \\\n",
    "    .master(\"local[*]\") \\\n",
    "    .appName('test') \\\n",
    "    .getOrCreate()"
   ]
  },
  {
   "cell_type": "code",
   "execution_count": 4,
   "id": "7168f570",
   "metadata": {},
   "outputs": [
    {
     "name": "stderr",
     "output_type": "stream",
     "text": [
      "                                                                                \r"
     ]
    },
    {
     "name": "stdout",
     "output_type": "stream",
     "text": [
      "+---------+--------+\n",
      "|player_id|group_id|\n",
      "+---------+--------+\n",
      "|       15|       1|\n",
      "|       25|       1|\n",
      "|       30|       1|\n",
      "|       45|       1|\n",
      "|       10|       2|\n",
      "|       35|       2|\n",
      "|       50|       2|\n",
      "|       20|       3|\n",
      "|       40|       3|\n",
      "+---------+--------+\n",
      "\n",
      "+--------+------------+-------------+-----------+------------+\n",
      "|match_id|first_player|second_player|first_score|second_score|\n",
      "+--------+------------+-------------+-----------+------------+\n",
      "|       1|          15|           45|          3|           0|\n",
      "|       2|          30|           25|          1|           2|\n",
      "|       3|          30|           15|          2|           0|\n",
      "|       4|          40|           20|          5|           2|\n",
      "|       5|          35|           50|          1|           1|\n",
      "+--------+------------+-------------+-----------+------------+\n",
      "\n",
      "[('match_id', 'int'), ('first_player', 'int'), ('second_player', 'int'), ('first_score', 'int'), ('second_score', 'int')]\n"
     ]
    }
   ],
   "source": [
    "players_schema = StructType([\n",
    "    StructField(\"player_id\", IntegerType(), True),\n",
    "    StructField(\"group_id\", IntegerType(), True)\n",
    "])\n",
    "\n",
    "players_data = [\n",
    "    (15, 1),\n",
    "    (25, 1),\n",
    "    (30, 1),\n",
    "    (45, 1),\n",
    "    (10, 2),\n",
    "    (35, 2),\n",
    "    (50, 2),\n",
    "    (20, 3),\n",
    "    (40, 3)\n",
    "]\n",
    "\n",
    "players_df = spark.createDataFrame(players_data, schema=players_schema)\n",
    "\n",
    "matches_schema = StructType([\n",
    "    StructField(\"match_id\", IntegerType(), True),\n",
    "    StructField(\"first_player\", IntegerType(), True),\n",
    "    StructField(\"second_player\", IntegerType(), True),\n",
    "    StructField(\"first_score\", IntegerType(), True),\n",
    "    StructField(\"second_score\", IntegerType(), True)\n",
    "])\n",
    "\n",
    "matches_data = [\n",
    "    (1, 15, 45, 3, 0),\n",
    "    (2, 30, 25, 1, 2),\n",
    "    (3, 30, 15, 2, 0),\n",
    "    (4, 40, 20, 5, 2),\n",
    "    (5, 35, 50, 1, 1)\n",
    "]\n",
    "\n",
    "matches_df = spark.createDataFrame(matches_data, schema=matches_schema)\n",
    "\n",
    "players_df.show()\n",
    "matches_df.show()\n",
    "\n",
    "print(matches_df.dtypes)"
   ]
  },
  {
   "cell_type": "code",
   "execution_count": 5,
   "id": "b25b3e10",
   "metadata": {},
   "outputs": [],
   "source": [
    "players_df.createOrReplaceTempView(\"Players\")\n",
    "matches_df.createOrReplaceTempView(\"Matches\")"
   ]
  },
  {
   "cell_type": "code",
   "execution_count": 13,
   "id": "2a66ef83",
   "metadata": {},
   "outputs": [
    {
     "name": "stderr",
     "output_type": "stream",
     "text": [
      "                                                                                \r"
     ]
    },
    {
     "name": "stdout",
     "output_type": "stream",
     "text": [
      "+--------+---------+\n",
      "|group_id|player_id|\n",
      "+--------+---------+\n",
      "|       1|       15|\n",
      "|       2|       35|\n",
      "|       3|       40|\n",
      "+--------+---------+\n",
      "\n"
     ]
    }
   ],
   "source": [
    "result = spark.sql(\n",
    "    \"\"\"\n",
    "    select distinct group_id, \n",
    "        first_value(pscores.player_id) \n",
    "            over(partition by group_id order by score desc, pscores.player_id ASC) as player_id\n",
    "    from (select player_id, sum(score) as score\n",
    "    from (select first_player as player_id, first_score as score from Matches\n",
    "    UNION ALL \n",
    "    select second_player as player_id, second_score as score from Matches) all\n",
    "    group by 1) pscores\n",
    "        left join Players p on pscores.player_id = p.player_id\n",
    "    \"\"\"\n",
    ")\n",
    "result.show()"
   ]
  },
  {
   "cell_type": "code",
   "execution_count": 27,
   "id": "38c5e623",
   "metadata": {},
   "outputs": [
    {
     "name": "stdout",
     "output_type": "stream",
     "text": [
      "+--------+---------+\n",
      "|group_id|player_id|\n",
      "+--------+---------+\n",
      "|       1|       15|\n",
      "|       2|       35|\n",
      "|       3|       40|\n",
      "+--------+---------+\n",
      "\n"
     ]
    }
   ],
   "source": [
    "result = spark.sql(\n",
    "    \"\"\"          \n",
    "        SELECT group_id, player_id FROM \n",
    "(\n",
    "    SELECT\n",
    "        group_id, player_id, rank() over(PARTITION BY group_id ORDER BY score desc, player_id) rk\n",
    "    FROM (\n",
    "        SELECT \n",
    "            p.group_id\n",
    "            , p.player_id\n",
    "            , sum(if(p.player_id=m.first_player,first_score,second_score)) score\n",
    "        FROM Players p LEFT JOIN Matches m on p.player_id = m.first_player or p.player_id = m.second_player\n",
    "        GROUP BY p.group_id, p.player_id\n",
    "    ) a\n",
    ") b where rk=1;\n",
    "    \n",
    "    \"\"\"\n",
    ")\n",
    "result.show()"
   ]
  },
  {
   "cell_type": "code",
   "execution_count": null,
   "id": "cea98e33",
   "metadata": {},
   "outputs": [],
   "source": []
  }
 ],
 "metadata": {
  "kernelspec": {
   "display_name": "Python 3 (ipykernel)",
   "language": "python",
   "name": "python3"
  },
  "language_info": {
   "codemirror_mode": {
    "name": "ipython",
    "version": 3
   },
   "file_extension": ".py",
   "mimetype": "text/x-python",
   "name": "python",
   "nbconvert_exporter": "python",
   "pygments_lexer": "ipython3",
   "version": "3.11.5"
  }
 },
 "nbformat": 4,
 "nbformat_minor": 5
}

{
 "cells": [
  {
   "cell_type": "code",
   "execution_count": 1,
   "id": "ffcdf006",
   "metadata": {},
   "outputs": [],
   "source": [
    "from pyspark.sql.types import StructType, StructField, IntegerType, StringType, DateType"
   ]
  },
  {
   "cell_type": "code",
   "execution_count": 2,
   "id": "e4fa0626",
   "metadata": {
    "scrolled": true
   },
   "outputs": [
    {
     "name": "stderr",
     "output_type": "stream",
     "text": [
      "Setting default log level to \"WARN\".\n",
      "To adjust logging level use sc.setLogLevel(newLevel). For SparkR, use setLogLevel(newLevel).\n",
      "23/12/11 22:54:07 WARN NativeCodeLoader: Unable to load native-hadoop library for your platform... using builtin-java classes where applicable\n",
      "23/12/11 22:54:19 WARN GarbageCollectionMetrics: To enable non-built-in garbage collector(s) List(G1 Concurrent GC), users should configure it(them) to spark.eventLog.gcMetrics.youngGenerationGarbageCollectors or spark.eventLog.gcMetrics.oldGenerationGarbageCollectors\n"
     ]
    }
   ],
   "source": [
    "from pyspark.sql import SparkSession\n",
    "spark = SparkSession.builder.appName(\"test\").getOrCreate()"
   ]
  },
  {
   "cell_type": "code",
   "execution_count": 4,
   "id": "7168f570",
   "metadata": {},
   "outputs": [
    {
     "name": "stdout",
     "output_type": "stream",
     "text": [
      "+------------+---------+-------------+-----+\n",
      "|  stock_name|operation|operation_day|price|\n",
      "+------------+---------+-------------+-----+\n",
      "|    Leetcode|      Buy|            1| 1000|\n",
      "|Corona Masks|      Buy|            2|   10|\n",
      "|    Leetcode|     Sell|            5| 9000|\n",
      "|    Handbags|      Buy|           17|30000|\n",
      "|Corona Masks|     Sell|            3| 1010|\n",
      "|Corona Masks|      Buy|            4| 1000|\n",
      "|Corona Masks|     Sell|            5|  500|\n",
      "|Corona Masks|      Buy|            6| 1000|\n",
      "|    Handbags|     Sell|           29| 7000|\n",
      "|Corona Masks|     Sell|           10|10000|\n",
      "+------------+---------+-------------+-----+\n",
      "\n",
      "[('stock_name', 'string'), ('operation', 'string'), ('operation_day', 'int'), ('price', 'int')]\n"
     ]
    }
   ],
   "source": [
    "schema = StructType([\n",
    "    StructField(\"stock_name\", StringType(), True),\n",
    "    StructField(\"operation\", StringType(), True),\n",
    "    StructField(\"operation_day\", IntegerType(), True),\n",
    "    StructField(\"price\", IntegerType(), True)\n",
    "])\n",
    "\n",
    "# Data to be loaded into the DataFrame\n",
    "data = [\n",
    "    (\"Leetcode\", \"Buy\", 1, 1000),\n",
    "    (\"Corona Masks\", \"Buy\", 2, 10),\n",
    "    (\"Leetcode\", \"Sell\", 5, 9000),\n",
    "    (\"Handbags\", \"Buy\", 17, 30000),\n",
    "    (\"Corona Masks\", \"Sell\", 3, 1010),\n",
    "    (\"Corona Masks\", \"Buy\", 4, 1000),\n",
    "    (\"Corona Masks\", \"Sell\", 5, 500),\n",
    "    (\"Corona Masks\", \"Buy\", 6, 1000),\n",
    "    (\"Handbags\", \"Sell\", 29, 7000),\n",
    "    (\"Corona Masks\", \"Sell\", 10, 10000)\n",
    "]\n",
    "\n",
    "# Create DataFrame\n",
    "df = spark.createDataFrame(data, schema)\n",
    "\n",
    "# Show the DataFrame\n",
    "df.show()\n",
    "\n",
    "print(df.dtypes)"
   ]
  },
  {
   "cell_type": "code",
   "execution_count": 5,
   "id": "b25b3e10",
   "metadata": {},
   "outputs": [],
   "source": [
    "df.createOrReplaceTempView(\"Stocks\")"
   ]
  },
  {
   "cell_type": "code",
   "execution_count": 9,
   "id": "38c5e623",
   "metadata": {},
   "outputs": [
    {
     "name": "stdout",
     "output_type": "stream",
     "text": [
      "+------------+---------+-------------+-----+------+\n",
      "|  stock_name|operation|operation_day|price|profit|\n",
      "+------------+---------+-------------+-----+------+\n",
      "|Corona Masks|      Buy|            2|   10|  1000|\n",
      "|Corona Masks|     Sell|            3| 1010|   -10|\n",
      "|Corona Masks|      Buy|            4| 1000|  -500|\n",
      "|Corona Masks|     Sell|            5|  500|   500|\n",
      "|Corona Masks|      Buy|            6| 1000|  9000|\n",
      "|Corona Masks|     Sell|           10|10000|  NULL|\n",
      "|    Handbags|      Buy|           17|30000|-23000|\n",
      "|    Handbags|     Sell|           29| 7000|  NULL|\n",
      "|    Leetcode|      Buy|            1| 1000|  8000|\n",
      "|    Leetcode|     Sell|            5| 9000|  NULL|\n",
      "+------------+---------+-------------+-----+------+\n",
      "\n"
     ]
    }
   ],
   "source": [
    "result = spark.sql(\n",
    "    \"\"\"          \n",
    "    select *, lead(price) over(partition by stock_name order by operation_day) - price as profit\n",
    "    from Stocks\n",
    "\n",
    "    \"\"\"\n",
    ")\n",
    "result.show()"
   ]
  },
  {
   "cell_type": "code",
   "execution_count": 11,
   "id": "daf95406",
   "metadata": {},
   "outputs": [
    {
     "name": "stdout",
     "output_type": "stream",
     "text": [
      "+------------+-----------------+\n",
      "|  stock_name|capital_gain_loss|\n",
      "+------------+-----------------+\n",
      "|Corona Masks|             9500|\n",
      "|    Handbags|           -23000|\n",
      "|    Leetcode|             8000|\n",
      "+------------+-----------------+\n",
      "\n"
     ]
    }
   ],
   "source": [
    "result = spark.sql(\n",
    "    \"\"\"          \n",
    "    select stock_name, sum(profit) as capital_gain_loss\n",
    "    from (select *, lead(price) over(partition by stock_name order by operation_day) - price as profit\n",
    "        from Stocks) p \n",
    "    where operation = \"Buy\"\n",
    "    group by 1\n",
    "    \"\"\"\n",
    ")\n",
    "result.show()"
   ]
  },
  {
   "cell_type": "code",
   "execution_count": 13,
   "id": "f11db4ce",
   "metadata": {},
   "outputs": [
    {
     "name": "stdout",
     "output_type": "stream",
     "text": [
      "+------------+-----------------+\n",
      "|  stock_name|capital_gain_loss|\n",
      "+------------+-----------------+\n",
      "|    Leetcode|             8000|\n",
      "|Corona Masks|             9500|\n",
      "|    Handbags|           -23000|\n",
      "+------------+-----------------+\n",
      "\n"
     ]
    }
   ],
   "source": [
    "result = spark.sql(\n",
    "    \"\"\"          \n",
    "    select stock_name, sum(case when operation = \"Buy\" then -price else price end) as capital_gain_loss\n",
    "    from Stocks\n",
    "    group by 1\n",
    "    \"\"\"\n",
    ")\n",
    "result.show()"
   ]
  },
  {
   "cell_type": "code",
   "execution_count": null,
   "id": "fd62aab5",
   "metadata": {},
   "outputs": [],
   "source": []
  }
 ],
 "metadata": {
  "kernelspec": {
   "display_name": "Python 3 (ipykernel)",
   "language": "python",
   "name": "python3"
  },
  "language_info": {
   "codemirror_mode": {
    "name": "ipython",
    "version": 3
   },
   "file_extension": ".py",
   "mimetype": "text/x-python",
   "name": "python",
   "nbconvert_exporter": "python",
   "pygments_lexer": "ipython3",
   "version": "3.11.5"
  }
 },
 "nbformat": 4,
 "nbformat_minor": 5
}

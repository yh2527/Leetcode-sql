{
 "cells": [
  {
   "cell_type": "code",
   "execution_count": 1,
   "id": "ffcdf006",
   "metadata": {},
   "outputs": [],
   "source": [
    "import pyspark\n",
    "from pyspark.sql.types import StructType, StructField, IntegerType, StringType"
   ]
  },
  {
   "cell_type": "code",
   "execution_count": 2,
   "id": "e4fa0626",
   "metadata": {},
   "outputs": [
    {
     "name": "stderr",
     "output_type": "stream",
     "text": [
      "Setting default log level to \"WARN\".\n",
      "To adjust logging level use sc.setLogLevel(newLevel). For SparkR, use setLogLevel(newLevel).\n",
      "23/11/15 17:37:41 WARN NativeCodeLoader: Unable to load native-hadoop library for your platform... using builtin-java classes where applicable\n"
     ]
    }
   ],
   "source": [
    "from pyspark.sql import SparkSession\n",
    "spark = SparkSession.builder \\\n",
    "    .master(\"local[*]\") \\\n",
    "    .appName('test') \\\n",
    "    .getOrCreate()"
   ]
  },
  {
   "cell_type": "code",
   "execution_count": 3,
   "id": "7168f570",
   "metadata": {},
   "outputs": [
    {
     "name": "stderr",
     "output_type": "stream",
     "text": [
      "                                                                                \r"
     ]
    },
    {
     "name": "stdout",
     "output_type": "stream",
     "text": [
      "+---+----+\n",
      "| id|p_id|\n",
      "+---+----+\n",
      "|  1|NULL|\n",
      "|  2|   1|\n",
      "|  3|   1|\n",
      "|  4|   2|\n",
      "|  5|   2|\n",
      "+---+----+\n",
      "\n"
     ]
    }
   ],
   "source": [
    "schema = StructType([\n",
    "    StructField(\"id\", IntegerType(), True),\n",
    "    StructField(\"p_id\", IntegerType(), True) # Assuming p_id is also an integer, if it's a string replace IntegerType() with StringType()\n",
    "])\n",
    "data = [\n",
    "    (1, None),\n",
    "    (2, 1),\n",
    "    (3, 1),\n",
    "    (4, 2),\n",
    "    (5, 2)\n",
    "]\n",
    "df = spark.createDataFrame(data, schema)\n",
    "df.show()"
   ]
  },
  {
   "cell_type": "code",
   "execution_count": 4,
   "id": "b25b3e10",
   "metadata": {},
   "outputs": [
    {
     "name": "stderr",
     "output_type": "stream",
     "text": [
      "23/11/15 17:37:52 WARN GarbageCollectionMetrics: To enable non-built-in garbage collector(s) List(G1 Concurrent GC), users should configure it(them) to spark.eventLog.gcMetrics.youngGenerationGarbageCollectors or spark.eventLog.gcMetrics.oldGenerationGarbageCollectors\n"
     ]
    }
   ],
   "source": [
    "df.createOrReplaceTempView(\"Tree\")"
   ]
  },
  {
   "cell_type": "code",
   "execution_count": 6,
   "id": "2a66ef83",
   "metadata": {},
   "outputs": [
    {
     "name": "stdout",
     "output_type": "stream",
     "text": [
      "+---+-----+\n",
      "| id| type|\n",
      "+---+-----+\n",
      "|  1| Root|\n",
      "|  2|Inner|\n",
      "|  3| Leaf|\n",
      "|  4| Leaf|\n",
      "|  5| Leaf|\n",
      "+---+-----+\n",
      "\n"
     ]
    }
   ],
   "source": [
    "result = spark.sql(\n",
    "    \"\"\"\n",
    "    SELECT id, \n",
    "        CASE \n",
    "            WHEN p_id IS NULL \n",
    "                THEN 'Root'\n",
    "            WHEN id IN (SELECT p_id FROM Tree WHERE p_id IS NOT NULL)\n",
    "                THEN 'Inner'\n",
    "            ELSE 'Leaf' END AS type\n",
    "    FROM Tree\n",
    "    \"\"\"\n",
    ")\n",
    "result.show()"
   ]
  },
  {
   "cell_type": "code",
   "execution_count": 8,
   "id": "730b0044",
   "metadata": {},
   "outputs": [
    {
     "name": "stdout",
     "output_type": "stream",
     "text": [
      "+---+-----+\n",
      "| id| TYPE|\n",
      "+---+-----+\n",
      "|  1| Root|\n",
      "|  2|Inner|\n",
      "|  3| Leaf|\n",
      "|  4| Leaf|\n",
      "|  5| Leaf|\n",
      "+---+-----+\n",
      "\n"
     ]
    }
   ],
   "source": [
    "result = spark.sql(\n",
    "    \"\"\"\n",
    "    SELECT id, 'Root' AS TYPE FROM Tree WHERE p_id IS NULL \n",
    "    UNION\n",
    "    SELECT id, 'Inner' AS TYPE FROM Tree \n",
    "        WHERE p_id IS NOT NULL AND id IN (SELECT DISTINCT p_id FROM Tree WHERE p_id IS NOT NULL)\n",
    "    UNION\n",
    "    SELECT id, 'Leaf' AS TYPE FROM Tree \n",
    "        WHERE p_id IS NOT NULL AND id NOT IN (SELECT DISTINCT p_id FROM Tree WHERE p_id IS NOT NULL)\n",
    "    \"\"\"\n",
    ")\n",
    "result.show()"
   ]
  },
  {
   "cell_type": "code",
   "execution_count": null,
   "id": "fb514d3c",
   "metadata": {},
   "outputs": [],
   "source": []
  }
 ],
 "metadata": {
  "kernelspec": {
   "display_name": "Python 3 (ipykernel)",
   "language": "python",
   "name": "python3"
  },
  "language_info": {
   "codemirror_mode": {
    "name": "ipython",
    "version": 3
   },
   "file_extension": ".py",
   "mimetype": "text/x-python",
   "name": "python",
   "nbconvert_exporter": "python",
   "pygments_lexer": "ipython3",
   "version": "3.11.3"
  }
 },
 "nbformat": 4,
 "nbformat_minor": 5
}

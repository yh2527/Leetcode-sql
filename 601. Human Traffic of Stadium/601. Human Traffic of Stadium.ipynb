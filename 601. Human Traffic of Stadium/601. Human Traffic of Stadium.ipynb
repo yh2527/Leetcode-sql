{
 "cells": [
  {
   "cell_type": "code",
   "execution_count": 3,
   "id": "e4fa0626",
   "metadata": {
    "scrolled": true
   },
   "outputs": [
    {
     "name": "stderr",
     "output_type": "stream",
     "text": [
      "24/01/08 23:04:20 WARN SparkSession: Using an existing Spark session; only runtime SQL configurations will take effect.\n"
     ]
    }
   ],
   "source": [
    "from pyspark.sql import SparkSession\n",
    "spark = SparkSession.builder.appName(\"test\").getOrCreate()"
   ]
  },
  {
   "cell_type": "code",
   "execution_count": 6,
   "id": "7168f570",
   "metadata": {},
   "outputs": [
    {
     "name": "stdout",
     "output_type": "stream",
     "text": [
      "+---+----------+------+\n",
      "| id|visit_date|people|\n",
      "+---+----------+------+\n",
      "|  1|2017-01-01|    10|\n",
      "|  2|2017-01-02|   109|\n",
      "|  3|2017-01-03|   150|\n",
      "|  4|2017-01-04|    99|\n",
      "|  5|2017-01-05|   145|\n",
      "|  6|2017-01-06|  1455|\n",
      "|  7|2017-01-07|   199|\n",
      "|  8|2017-01-09|   188|\n",
      "+---+----------+------+\n",
      "\n",
      "[('id', 'bigint'), ('visit_date', 'string'), ('people', 'bigint')]\n"
     ]
    }
   ],
   "source": [
    "from pyspark.sql import Row\n",
    "from datetime import datetime\n",
    "\n",
    "# Create a list of Row objects\n",
    "stadium_data = [\n",
    "    Row(id=1, visit_date=datetime(2017, 1, 1), people=10),\n",
    "    Row(id=2, visit_date=datetime(2017, 1, 2), people=109),\n",
    "    Row(id=3, visit_date=datetime(2017, 1, 3), people=150),\n",
    "    Row(id=4, visit_date=datetime(2017, 1, 4), people=99),\n",
    "    Row(id=5, visit_date=datetime(2017, 1, 5), people=145),\n",
    "    Row(id=6, visit_date=datetime(2017, 1, 6), people=1455),\n",
    "    Row(id=7, visit_date=datetime(2017, 1, 7), people=199),\n",
    "    Row(id=8, visit_date=datetime(2017, 1, 9), people=188)\n",
    "]\n",
    "\n",
    "# Create a DataFrame from the list of Row objects\n",
    "stadium_df = spark.createDataFrame(stadium_data)\n",
    "from pyspark.sql.functions import col, date_format\n",
    "stadium_df = stadium_df.withColumn(\"visit_date\", date_format(col(\"visit_date\"), \"yyyy-MM-dd\"))\n",
    "\n",
    "# Show the DataFrame\n",
    "stadium_df.show()\n",
    "\n",
    "print(stadium_df.dtypes)"
   ]
  },
  {
   "cell_type": "code",
   "execution_count": 9,
   "id": "b25b3e10",
   "metadata": {},
   "outputs": [],
   "source": [
    "stadium_df.createOrReplaceTempView(\"Stadium\")"
   ]
  },
  {
   "cell_type": "code",
   "execution_count": 11,
   "id": "72673c22",
   "metadata": {},
   "outputs": [
    {
     "name": "stderr",
     "output_type": "stream",
     "text": [
      "[Stage 12:====================================================>  (96 + 4) / 100]\r"
     ]
    },
    {
     "name": "stdout",
     "output_type": "stream",
     "text": [
      "+---+----------+------+---+----------+------+---+----------+------+\n",
      "| id|visit_date|people| id|visit_date|people| id|visit_date|people|\n",
      "+---+----------+------+---+----------+------+---+----------+------+\n",
      "|  2|2017-01-02|   109|  2|2017-01-02|   109|  2|2017-01-02|   109|\n",
      "|  2|2017-01-02|   109|  2|2017-01-02|   109|  3|2017-01-03|   150|\n",
      "|  2|2017-01-02|   109|  2|2017-01-02|   109|  5|2017-01-05|   145|\n",
      "|  2|2017-01-02|   109|  2|2017-01-02|   109|  6|2017-01-06|  1455|\n",
      "|  2|2017-01-02|   109|  2|2017-01-02|   109|  7|2017-01-07|   199|\n",
      "|  2|2017-01-02|   109|  2|2017-01-02|   109|  8|2017-01-09|   188|\n",
      "|  2|2017-01-02|   109|  3|2017-01-03|   150|  2|2017-01-02|   109|\n",
      "|  2|2017-01-02|   109|  3|2017-01-03|   150|  3|2017-01-03|   150|\n",
      "|  2|2017-01-02|   109|  3|2017-01-03|   150|  5|2017-01-05|   145|\n",
      "|  2|2017-01-02|   109|  3|2017-01-03|   150|  6|2017-01-06|  1455|\n",
      "|  2|2017-01-02|   109|  3|2017-01-03|   150|  7|2017-01-07|   199|\n",
      "|  2|2017-01-02|   109|  3|2017-01-03|   150|  8|2017-01-09|   188|\n",
      "|  2|2017-01-02|   109|  5|2017-01-05|   145|  2|2017-01-02|   109|\n",
      "|  2|2017-01-02|   109|  5|2017-01-05|   145|  3|2017-01-03|   150|\n",
      "|  2|2017-01-02|   109|  5|2017-01-05|   145|  5|2017-01-05|   145|\n",
      "|  2|2017-01-02|   109|  5|2017-01-05|   145|  6|2017-01-06|  1455|\n",
      "|  2|2017-01-02|   109|  5|2017-01-05|   145|  7|2017-01-07|   199|\n",
      "|  2|2017-01-02|   109|  5|2017-01-05|   145|  8|2017-01-09|   188|\n",
      "|  2|2017-01-02|   109|  6|2017-01-06|  1455|  2|2017-01-02|   109|\n",
      "|  2|2017-01-02|   109|  6|2017-01-06|  1455|  3|2017-01-03|   150|\n",
      "+---+----------+------+---+----------+------+---+----------+------+\n",
      "only showing top 20 rows\n",
      "\n"
     ]
    },
    {
     "name": "stderr",
     "output_type": "stream",
     "text": [
      "\r",
      "                                                                                \r"
     ]
    }
   ],
   "source": [
    "result = spark.sql(\n",
    "    \"\"\"          \n",
    "    select *\n",
    "    from Stadium s1, Stadium s2, Stadium s3\n",
    "    where s1.people >= 100 and s2.people >= 100 and s3.people >= 100 \n",
    "\n",
    "    \"\"\"\n",
    ")\n",
    "result.show()"
   ]
  },
  {
   "cell_type": "code",
   "execution_count": 13,
   "id": "38c5e623",
   "metadata": {
    "scrolled": false
   },
   "outputs": [
    {
     "name": "stderr",
     "output_type": "stream",
     "text": [
      "                                                                                \r"
     ]
    },
    {
     "name": "stdout",
     "output_type": "stream",
     "text": [
      "+---+----------+------+---+----------+------+---+----------+------+\n",
      "| id|visit_date|people| id|visit_date|people| id|visit_date|people|\n",
      "+---+----------+------+---+----------+------+---+----------+------+\n",
      "|  5|2017-01-05|   145|  6|2017-01-06|  1455|  7|2017-01-07|   199|\n",
      "|  6|2017-01-06|  1455|  5|2017-01-05|   145|  7|2017-01-07|   199|\n",
      "|  6|2017-01-06|  1455|  7|2017-01-07|   199|  8|2017-01-09|   188|\n",
      "|  7|2017-01-07|   199|  6|2017-01-06|  1455|  5|2017-01-05|   145|\n",
      "|  7|2017-01-07|   199|  6|2017-01-06|  1455|  8|2017-01-09|   188|\n",
      "|  8|2017-01-09|   188|  7|2017-01-07|   199|  6|2017-01-06|  1455|\n",
      "+---+----------+------+---+----------+------+---+----------+------+\n",
      "\n"
     ]
    }
   ],
   "source": [
    "result = spark.sql(\n",
    "    \"\"\"          \n",
    "    select *\n",
    "    from Stadium s1, Stadium s2, Stadium s3\n",
    "    where s1.people >= 100 and s2.people >= 100 and s3.people >= 100 and (\n",
    "        (s1.id - s2.id = 1 and s2.id - s3.id = 1) or\n",
    "        (s1.id - s2.id = 1 and s3.id - s1.id = 1) or\n",
    "        (s2.id - s1.id = 1 and s3.id - s2.id = 1)\n",
    "    )\n",
    "\n",
    "    \"\"\"\n",
    ")\n",
    "result.show()"
   ]
  },
  {
   "cell_type": "code",
   "execution_count": 14,
   "id": "9d9c8a93",
   "metadata": {},
   "outputs": [
    {
     "name": "stderr",
     "output_type": "stream",
     "text": [
      "[Stage 23:=====================================================>(511 + 1) / 512]\r"
     ]
    },
    {
     "name": "stdout",
     "output_type": "stream",
     "text": [
      "+---+----------+------+\n",
      "| id|visit_date|people|\n",
      "+---+----------+------+\n",
      "|  5|2017-01-05|   145|\n",
      "|  6|2017-01-06|  1455|\n",
      "|  7|2017-01-07|   199|\n",
      "|  8|2017-01-09|   188|\n",
      "+---+----------+------+\n",
      "\n"
     ]
    },
    {
     "name": "stderr",
     "output_type": "stream",
     "text": [
      "\r",
      "                                                                                \r"
     ]
    }
   ],
   "source": [
    "result = spark.sql(\n",
    "    \"\"\"          \n",
    "    select distinct s1.*\n",
    "    from Stadium s1, Stadium s2, Stadium s3\n",
    "    where s1.people >= 100 and s2.people >= 100 and s3.people >= 100 and (\n",
    "        (s1.id - s2.id = 1 and s2.id - s3.id = 1) or\n",
    "        (s1.id - s2.id = 1 and s3.id - s1.id = 1) or\n",
    "        (s2.id - s1.id = 1 and s3.id - s2.id = 1)\n",
    "    )\n",
    "\n",
    "    \"\"\"\n",
    ")\n",
    "result.show()"
   ]
  },
  {
   "cell_type": "code",
   "execution_count": null,
   "id": "5a7e6939",
   "metadata": {},
   "outputs": [],
   "source": []
  }
 ],
 "metadata": {
  "kernelspec": {
   "display_name": "Python 3 (ipykernel)",
   "language": "python",
   "name": "python3"
  },
  "language_info": {
   "codemirror_mode": {
    "name": "ipython",
    "version": 3
   },
   "file_extension": ".py",
   "mimetype": "text/x-python",
   "name": "python",
   "nbconvert_exporter": "python",
   "pygments_lexer": "ipython3",
   "version": "3.11.5"
  }
 },
 "nbformat": 4,
 "nbformat_minor": 5
}

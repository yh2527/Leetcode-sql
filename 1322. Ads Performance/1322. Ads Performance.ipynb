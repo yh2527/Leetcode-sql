{
 "cells": [
  {
   "cell_type": "code",
   "execution_count": 1,
   "id": "ffcdf006",
   "metadata": {},
   "outputs": [],
   "source": [
    "import pyspark\n",
    "from pyspark.sql.types import StructType, StructField, IntegerType, StringType"
   ]
  },
  {
   "cell_type": "code",
   "execution_count": 2,
   "id": "e4fa0626",
   "metadata": {
    "scrolled": true
   },
   "outputs": [
    {
     "name": "stderr",
     "output_type": "stream",
     "text": [
      "Setting default log level to \"WARN\".\n",
      "To adjust logging level use sc.setLogLevel(newLevel). For SparkR, use setLogLevel(newLevel).\n",
      "23/11/20 12:38:43 WARN NativeCodeLoader: Unable to load native-hadoop library for your platform... using builtin-java classes where applicable\n"
     ]
    }
   ],
   "source": [
    "from pyspark.sql import SparkSession\n",
    "spark = SparkSession.builder \\\n",
    "    .master(\"local[*]\") \\\n",
    "    .appName('test') \\\n",
    "    .getOrCreate()"
   ]
  },
  {
   "cell_type": "code",
   "execution_count": 3,
   "id": "8a75002a",
   "metadata": {},
   "outputs": [
    {
     "name": "stderr",
     "output_type": "stream",
     "text": [
      "23/11/20 12:38:57 WARN GarbageCollectionMetrics: To enable non-built-in garbage collector(s) List(G1 Concurrent GC), users should configure it(them) to spark.eventLog.gcMetrics.youngGenerationGarbageCollectors or spark.eventLog.gcMetrics.oldGenerationGarbageCollectors\n"
     ]
    }
   ],
   "source": [
    "from pyspark.sql import Row\n",
    "from datetime import datetime\n",
    "from pyspark.sql.functions import date_format\n",
    "from pyspark.sql.functions import to_date"
   ]
  },
  {
   "cell_type": "code",
   "execution_count": 7,
   "id": "7168f570",
   "metadata": {},
   "outputs": [
    {
     "name": "stdout",
     "output_type": "stream",
     "text": [
      "+-----+-------+-------+\n",
      "|ad_id|user_id| action|\n",
      "+-----+-------+-------+\n",
      "|    1|      1|Clicked|\n",
      "|    2|      2|Clicked|\n",
      "|    3|      3| Viewed|\n",
      "|    5|      5|Ignored|\n",
      "|    1|      7|Ignored|\n",
      "|    2|      7| Viewed|\n",
      "|    3|      5|Clicked|\n",
      "|    1|      4| Viewed|\n",
      "|    2|     11| Viewed|\n",
      "|    1|      2|Clicked|\n",
      "+-----+-------+-------+\n",
      "\n",
      "[('ad_id', 'int'), ('user_id', 'int'), ('action', 'string')]\n"
     ]
    }
   ],
   "source": [
    "schema = StructType([ \n",
    "    StructField(\"ad_id\", IntegerType(), True),\n",
    "    StructField(\"user_id\", IntegerType(), True),\n",
    "    StructField(\"action\", StringType(), True)\n",
    "])\n",
    "data = [\n",
    "    {\"ad_id\": 1, \"user_id\": 1, \"action\": \"Clicked\"},\n",
    "    {\"ad_id\": 2, \"user_id\": 2, \"action\": \"Clicked\"},\n",
    "    {\"ad_id\": 3, \"user_id\": 3, \"action\": \"Viewed\"},\n",
    "    {\"ad_id\": 5, \"user_id\": 5, \"action\": \"Ignored\"},\n",
    "    {\"ad_id\": 1, \"user_id\": 7, \"action\": \"Ignored\"},\n",
    "    {\"ad_id\": 2, \"user_id\": 7, \"action\": \"Viewed\"},\n",
    "    {\"ad_id\": 3, \"user_id\": 5, \"action\": \"Clicked\"},\n",
    "    {\"ad_id\": 1, \"user_id\": 4, \"action\": \"Viewed\"},\n",
    "    {\"ad_id\": 2, \"user_id\": 11, \"action\": \"Viewed\"},\n",
    "    {\"ad_id\": 1, \"user_id\": 2, \"action\": \"Clicked\"}\n",
    "]\n",
    "# Convert the list of Row objects into a DataFrame\n",
    "df = spark.createDataFrame(data, schema)\n",
    "\n",
    "df.show()\n",
    "print(df.dtypes)"
   ]
  },
  {
   "cell_type": "code",
   "execution_count": 8,
   "id": "b25b3e10",
   "metadata": {},
   "outputs": [],
   "source": [
    "df.createOrReplaceTempView(\"Ads\")"
   ]
  },
  {
   "cell_type": "code",
   "execution_count": 31,
   "id": "2a66ef83",
   "metadata": {},
   "outputs": [
    {
     "name": "stdout",
     "output_type": "stream",
     "text": [
      "+-----+-----+\n",
      "|ad_id|  ctr|\n",
      "+-----+-----+\n",
      "|    1|66.67|\n",
      "|    3|50.00|\n",
      "|    2|33.33|\n",
      "|    5| 0.00|\n",
      "+-----+-----+\n",
      "\n"
     ]
    },
    {
     "name": "stderr",
     "output_type": "stream",
     "text": [
      "\r",
      "[Stage 39:===========================================>              (6 + 2) / 8]\r",
      "\r",
      "                                                                                \r"
     ]
    }
   ],
   "source": [
    "result = spark.sql(\n",
    "    \"\"\"\n",
    "    SELECT ad_id,\n",
    "        FORMAT_NUMBER(IFNULL(ROUND(100 * SUM(CASE WHEN action = 'Clicked' THEN 1 ELSE 0 END)\n",
    "        /SUM(CASE WHEN action = 'Ignored' THEN 0 ELSE 1 END), 2), 0), 2) AS ctr\n",
    "    FROM Ads\n",
    "    GROUP BY ad_id\n",
    "    ORDER BY ctr desc, ad_id\n",
    "    \"\"\"\n",
    ")\n",
    "result.show()"
   ]
  },
  {
   "cell_type": "code",
   "execution_count": 29,
   "id": "4c4325e5",
   "metadata": {},
   "outputs": [
    {
     "name": "stdout",
     "output_type": "stream",
     "text": [
      "+------+\n",
      "|sum(1)|\n",
      "+------+\n",
      "|     4|\n",
      "+------+\n",
      "\n"
     ]
    }
   ],
   "source": [
    "result = spark.sql(\n",
    "    \"\"\"\n",
    "    SELECT sum(1)\n",
    "    FROM Ads\n",
    "    WHERE action = 'Clicked'\n",
    "    \n",
    "    \"\"\"\n",
    ")\n",
    "result.show()"
   ]
  },
  {
   "cell_type": "code",
   "execution_count": null,
   "id": "e8e79e46",
   "metadata": {},
   "outputs": [],
   "source": []
  }
 ],
 "metadata": {
  "kernelspec": {
   "display_name": "Python 3 (ipykernel)",
   "language": "python",
   "name": "python3"
  },
  "language_info": {
   "codemirror_mode": {
    "name": "ipython",
    "version": 3
   },
   "file_extension": ".py",
   "mimetype": "text/x-python",
   "name": "python",
   "nbconvert_exporter": "python",
   "pygments_lexer": "ipython3",
   "version": "3.11.3"
  }
 },
 "nbformat": 4,
 "nbformat_minor": 5
}

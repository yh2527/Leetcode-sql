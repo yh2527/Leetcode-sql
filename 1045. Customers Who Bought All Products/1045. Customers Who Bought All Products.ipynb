{
 "cells": [
  {
   "cell_type": "code",
   "execution_count": 1,
   "id": "ffcdf006",
   "metadata": {},
   "outputs": [],
   "source": [
    "from pyspark.sql.types import StructType, StructField, IntegerType, StringType, DateType"
   ]
  },
  {
   "cell_type": "code",
   "execution_count": 2,
   "id": "e4fa0626",
   "metadata": {
    "scrolled": true
   },
   "outputs": [
    {
     "name": "stderr",
     "output_type": "stream",
     "text": [
      "Setting default log level to \"WARN\".\n",
      "To adjust logging level use sc.setLogLevel(newLevel). For SparkR, use setLogLevel(newLevel).\n",
      "23/12/10 21:43:58 WARN NativeCodeLoader: Unable to load native-hadoop library for your platform... using builtin-java classes where applicable\n",
      "23/12/10 21:44:13 WARN GarbageCollectionMetrics: To enable non-built-in garbage collector(s) List(G1 Concurrent GC), users should configure it(them) to spark.eventLog.gcMetrics.youngGenerationGarbageCollectors or spark.eventLog.gcMetrics.oldGenerationGarbageCollectors\n"
     ]
    }
   ],
   "source": [
    "from pyspark.sql import SparkSession\n",
    "spark = SparkSession.builder \\\n",
    "    .master(\"local[*]\") \\\n",
    "    .appName('test') \\\n",
    "    .getOrCreate()"
   ]
  },
  {
   "cell_type": "code",
   "execution_count": 6,
   "id": "7168f570",
   "metadata": {},
   "outputs": [
    {
     "name": "stderr",
     "output_type": "stream",
     "text": [
      "                                                                                \r"
     ]
    },
    {
     "name": "stdout",
     "output_type": "stream",
     "text": [
      "+-----------+-----------+\n",
      "|customer_id|product_key|\n",
      "+-----------+-----------+\n",
      "|          1|          5|\n",
      "|          2|          6|\n",
      "|          3|          5|\n",
      "|          3|          6|\n",
      "|          1|          6|\n",
      "+-----------+-----------+\n",
      "\n",
      "+-----------+\n",
      "|product_key|\n",
      "+-----------+\n",
      "|          5|\n",
      "|          6|\n",
      "+-----------+\n",
      "\n",
      "[('customer_id', 'bigint'), ('product_key', 'bigint')]\n"
     ]
    }
   ],
   "source": [
    "customer_data = [\n",
    "    {\"customer_id\": 1, \"product_key\": 5},\n",
    "    {\"customer_id\": 2, \"product_key\": 6},\n",
    "    {\"customer_id\": 3, \"product_key\": 5},\n",
    "    {\"customer_id\": 3, \"product_key\": 6},\n",
    "    {\"customer_id\": 1, \"product_key\": 6},\n",
    "]\n",
    "\n",
    "# Product data\n",
    "product_data = [\n",
    "    {\"product_key\": 5},\n",
    "    {\"product_key\": 6},\n",
    "]\n",
    "\n",
    "# Create DataFrames\n",
    "df_customer = spark.createDataFrame(customer_data)\n",
    "df_product = spark.createDataFrame(product_data)\n",
    "\n",
    "# Show DataFrames\n",
    "df_customer.show()\n",
    "df_product.show()\n",
    "\n",
    "print(df_customer.dtypes)"
   ]
  },
  {
   "cell_type": "code",
   "execution_count": 7,
   "id": "b25b3e10",
   "metadata": {},
   "outputs": [],
   "source": [
    "df_customer.createOrReplaceTempView(\"Customer\")\n",
    "df_product.createOrReplaceTempView(\"Product\")"
   ]
  },
  {
   "cell_type": "code",
   "execution_count": 14,
   "id": "38c5e623",
   "metadata": {},
   "outputs": [
    {
     "name": "stderr",
     "output_type": "stream",
     "text": [
      "\r",
      "[Stage 58:>                                                         (0 + 8) / 8]\r"
     ]
    },
    {
     "name": "stdout",
     "output_type": "stream",
     "text": [
      "+-----------+\n",
      "|customer_id|\n",
      "+-----------+\n",
      "|          1|\n",
      "|          3|\n",
      "+-----------+\n",
      "\n"
     ]
    },
    {
     "name": "stderr",
     "output_type": "stream",
     "text": [
      "\r",
      "                                                                                \r"
     ]
    }
   ],
   "source": [
    "result = spark.sql(\n",
    "    \"\"\"          \n",
    "select customer_id\n",
    "from Customer where product_key in (select product_key from Product)\n",
    "group by 1\n",
    "having count(product_key) = (select count(*) from Product)\n",
    "\n",
    "    \"\"\"\n",
    ")\n",
    "result.show()"
   ]
  },
  {
   "cell_type": "code",
   "execution_count": null,
   "id": "cea98e33",
   "metadata": {},
   "outputs": [],
   "source": []
  }
 ],
 "metadata": {
  "kernelspec": {
   "display_name": "Python 3 (ipykernel)",
   "language": "python",
   "name": "python3"
  },
  "language_info": {
   "codemirror_mode": {
    "name": "ipython",
    "version": 3
   },
   "file_extension": ".py",
   "mimetype": "text/x-python",
   "name": "python",
   "nbconvert_exporter": "python",
   "pygments_lexer": "ipython3",
   "version": "3.11.5"
  }
 },
 "nbformat": 4,
 "nbformat_minor": 5
}
